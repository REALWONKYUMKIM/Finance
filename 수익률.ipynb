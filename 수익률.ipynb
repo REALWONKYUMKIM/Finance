{
 "cells": [
  {
   "cell_type": "markdown",
   "id": "later-spoke",
   "metadata": {},
   "source": [
    "<font size=6><b>수익률(Return Rate)</b></font>"
   ]
  },
  {
   "cell_type": "code",
   "execution_count": 1,
   "id": "72a85182-32cc-428e-b6ec-b28e5d469701",
   "metadata": {},
   "outputs": [
    {
     "data": {
      "text/html": [
       "<style>.container{width:100% !important;}</style>"
      ],
      "text/plain": [
       "<IPython.core.display.HTML object>"
      ]
     },
     "metadata": {},
     "output_type": "display_data"
    }
   ],
   "source": [
    "from pykrx import stock\n",
    "from pykrx import bond\n",
    "import FinanceDataReader as fdr\n",
    "\n",
    "from IPython.display import Image\n",
    "import pandas as pd\n",
    "import numpy as np\n",
    "import matplotlib.pyplot as plt\n",
    "import seaborn as sns\n",
    "\n",
    "\n",
    "import warnings\n",
    "warnings.filterwarnings(action='ignore')\n",
    "sns.set()\n",
    "\n",
    "#-------------------- 차트 관련 속성 (한글처리, 그리드) -----------\n",
    "#plt.rc('font', family='NanumGothicOTF') # For MacOS\n",
    "plt.rcParams['font.family']= 'Malgun Gothic'\n",
    "plt.rcParams['axes.unicode_minus'] = False\n",
    "\n",
    "\n",
    "#-------------------- 주피터 , 출력결과 넓이 늘리기 ---------------\n",
    "from IPython.core.display import display, HTML\n",
    "display(HTML(\"<style>.container{width:100% !important;}</style>\"))\n",
    "pd.set_option('display.max_rows', 100)\n",
    "pd.set_option('display.max_columns', 100)\n",
    "pd.set_option('max_colwidth', None)\n",
    "\n"
   ]
  },
  {
   "cell_type": "markdown",
   "id": "86fcb19d-5892-4f9b-881d-fc9205a7ef4d",
   "metadata": {},
   "source": [
    "# Data Load"
   ]
  },
  {
   "cell_type": "code",
   "execution_count": 2,
   "id": "1f46fa5d-9aba-4622-b72a-e9fa46310513",
   "metadata": {
    "tags": []
   },
   "outputs": [],
   "source": [
    "from pykrx import stock"
   ]
  },
  {
   "cell_type": "code",
   "execution_count": 3,
   "id": "7a4bfbc4-9a7e-484e-aa46-99fe5f87487f",
   "metadata": {
    "tags": []
   },
   "outputs": [
    {
     "data": {
      "text/html": [
       "<div>\n",
       "<style scoped>\n",
       "    .dataframe tbody tr th:only-of-type {\n",
       "        vertical-align: middle;\n",
       "    }\n",
       "\n",
       "    .dataframe tbody tr th {\n",
       "        vertical-align: top;\n",
       "    }\n",
       "\n",
       "    .dataframe thead th {\n",
       "        text-align: right;\n",
       "    }\n",
       "</style>\n",
       "<table border=\"1\" class=\"dataframe\">\n",
       "  <thead>\n",
       "    <tr style=\"text-align: right;\">\n",
       "      <th></th>\n",
       "      <th>종가</th>\n",
       "      <th>등락률</th>\n",
       "    </tr>\n",
       "    <tr>\n",
       "      <th>날짜</th>\n",
       "      <th></th>\n",
       "      <th></th>\n",
       "    </tr>\n",
       "  </thead>\n",
       "  <tbody>\n",
       "    <tr>\n",
       "      <th>2022-01-03</th>\n",
       "      <td>78600</td>\n",
       "      <td>0.38</td>\n",
       "    </tr>\n",
       "    <tr>\n",
       "      <th>2022-01-04</th>\n",
       "      <td>78700</td>\n",
       "      <td>0.13</td>\n",
       "    </tr>\n",
       "    <tr>\n",
       "      <th>2022-01-05</th>\n",
       "      <td>77400</td>\n",
       "      <td>-1.65</td>\n",
       "    </tr>\n",
       "    <tr>\n",
       "      <th>2022-01-06</th>\n",
       "      <td>76900</td>\n",
       "      <td>-0.65</td>\n",
       "    </tr>\n",
       "    <tr>\n",
       "      <th>2022-01-07</th>\n",
       "      <td>78300</td>\n",
       "      <td>1.82</td>\n",
       "    </tr>\n",
       "  </tbody>\n",
       "</table>\n",
       "</div>"
      ],
      "text/plain": [
       "               종가   등락률\n",
       "날짜                     \n",
       "2022-01-03  78600  0.38\n",
       "2022-01-04  78700  0.13\n",
       "2022-01-05  77400 -1.65\n",
       "2022-01-06  76900 -0.65\n",
       "2022-01-07  78300  1.82"
      ]
     },
     "execution_count": 3,
     "metadata": {},
     "output_type": "execute_result"
    }
   ],
   "source": [
    "# 20220103~20221229\n",
    "df = stock.get_market_ohlcv(\"2022-01-01\", \"2022-12-31\", \"005930\")[['종가','등락률']]\n",
    "df.head()"
   ]
  },
  {
   "cell_type": "code",
   "execution_count": 4,
   "id": "4c38c6fa-124a-4493-9124-ac87dd32e250",
   "metadata": {
    "tags": []
   },
   "outputs": [
    {
     "data": {
      "text/html": [
       "<div>\n",
       "<style scoped>\n",
       "    .dataframe tbody tr th:only-of-type {\n",
       "        vertical-align: middle;\n",
       "    }\n",
       "\n",
       "    .dataframe tbody tr th {\n",
       "        vertical-align: top;\n",
       "    }\n",
       "\n",
       "    .dataframe thead th {\n",
       "        text-align: right;\n",
       "    }\n",
       "</style>\n",
       "<table border=\"1\" class=\"dataframe\">\n",
       "  <thead>\n",
       "    <tr style=\"text-align: right;\">\n",
       "      <th></th>\n",
       "      <th>종가</th>\n",
       "      <th>등락률</th>\n",
       "    </tr>\n",
       "    <tr>\n",
       "      <th>날짜</th>\n",
       "      <th></th>\n",
       "      <th></th>\n",
       "    </tr>\n",
       "  </thead>\n",
       "  <tbody>\n",
       "    <tr>\n",
       "      <th>2022-01-03</th>\n",
       "      <td>78600</td>\n",
       "      <td>0.38</td>\n",
       "    </tr>\n",
       "    <tr>\n",
       "      <th>2022-01-04</th>\n",
       "      <td>78700</td>\n",
       "      <td>0.13</td>\n",
       "    </tr>\n",
       "    <tr>\n",
       "      <th>2022-01-05</th>\n",
       "      <td>77400</td>\n",
       "      <td>-1.65</td>\n",
       "    </tr>\n",
       "    <tr>\n",
       "      <th>2022-01-06</th>\n",
       "      <td>76900</td>\n",
       "      <td>-0.65</td>\n",
       "    </tr>\n",
       "    <tr>\n",
       "      <th>2022-01-07</th>\n",
       "      <td>78300</td>\n",
       "      <td>1.82</td>\n",
       "    </tr>\n",
       "    <tr>\n",
       "      <th>2022-01-10</th>\n",
       "      <td>78000</td>\n",
       "      <td>-0.38</td>\n",
       "    </tr>\n",
       "    <tr>\n",
       "      <th>2022-01-11</th>\n",
       "      <td>78900</td>\n",
       "      <td>1.15</td>\n",
       "    </tr>\n",
       "    <tr>\n",
       "      <th>2022-01-12</th>\n",
       "      <td>78900</td>\n",
       "      <td>0.00</td>\n",
       "    </tr>\n",
       "    <tr>\n",
       "      <th>2022-01-13</th>\n",
       "      <td>77900</td>\n",
       "      <td>-1.27</td>\n",
       "    </tr>\n",
       "    <tr>\n",
       "      <th>2022-01-14</th>\n",
       "      <td>77300</td>\n",
       "      <td>-0.77</td>\n",
       "    </tr>\n",
       "    <tr>\n",
       "      <th>2022-01-17</th>\n",
       "      <td>77500</td>\n",
       "      <td>0.26</td>\n",
       "    </tr>\n",
       "    <tr>\n",
       "      <th>2022-01-18</th>\n",
       "      <td>77000</td>\n",
       "      <td>-0.65</td>\n",
       "    </tr>\n",
       "    <tr>\n",
       "      <th>2022-01-19</th>\n",
       "      <td>76300</td>\n",
       "      <td>-0.91</td>\n",
       "    </tr>\n",
       "    <tr>\n",
       "      <th>2022-01-20</th>\n",
       "      <td>76500</td>\n",
       "      <td>0.26</td>\n",
       "    </tr>\n",
       "    <tr>\n",
       "      <th>2022-01-21</th>\n",
       "      <td>75600</td>\n",
       "      <td>-1.18</td>\n",
       "    </tr>\n",
       "    <tr>\n",
       "      <th>2022-01-24</th>\n",
       "      <td>75100</td>\n",
       "      <td>-0.66</td>\n",
       "    </tr>\n",
       "    <tr>\n",
       "      <th>2022-01-25</th>\n",
       "      <td>74000</td>\n",
       "      <td>-1.46</td>\n",
       "    </tr>\n",
       "    <tr>\n",
       "      <th>2022-01-26</th>\n",
       "      <td>73300</td>\n",
       "      <td>-0.95</td>\n",
       "    </tr>\n",
       "    <tr>\n",
       "      <th>2022-01-27</th>\n",
       "      <td>71300</td>\n",
       "      <td>-2.73</td>\n",
       "    </tr>\n",
       "    <tr>\n",
       "      <th>2022-01-28</th>\n",
       "      <td>73300</td>\n",
       "      <td>2.81</td>\n",
       "    </tr>\n",
       "  </tbody>\n",
       "</table>\n",
       "</div>"
      ],
      "text/plain": [
       "               종가   등락률\n",
       "날짜                     \n",
       "2022-01-03  78600  0.38\n",
       "2022-01-04  78700  0.13\n",
       "2022-01-05  77400 -1.65\n",
       "2022-01-06  76900 -0.65\n",
       "2022-01-07  78300  1.82\n",
       "2022-01-10  78000 -0.38\n",
       "2022-01-11  78900  1.15\n",
       "2022-01-12  78900  0.00\n",
       "2022-01-13  77900 -1.27\n",
       "2022-01-14  77300 -0.77\n",
       "2022-01-17  77500  0.26\n",
       "2022-01-18  77000 -0.65\n",
       "2022-01-19  76300 -0.91\n",
       "2022-01-20  76500  0.26\n",
       "2022-01-21  75600 -1.18\n",
       "2022-01-24  75100 -0.66\n",
       "2022-01-25  74000 -1.46\n",
       "2022-01-26  73300 -0.95\n",
       "2022-01-27  71300 -2.73\n",
       "2022-01-28  73300  2.81"
      ]
     },
     "execution_count": 4,
     "metadata": {},
     "output_type": "execute_result"
    }
   ],
   "source": [
    "df1 = df[df.index < '2022-02-01']\n",
    "df1"
   ]
  },
  {
   "cell_type": "markdown",
   "id": "8f8aba30-ca9f-4533-98aa-322b2a221b9c",
   "metadata": {},
   "source": [
    "# 연복리 수익률(CAGR)\n",
    "* CAGR(Compound Annual Growth Rate)\n",
    "* 투자 기간에 대한 투자 수익률\n",
    "* $ (1+r)^N  = 기간수익률 $\n",
    "* $ 연복리수익률(r) = 기간수익률^{1 \\over N} -1  $\n",
    "\n",
    "    * <font color=red><b>$단리 = 원금 × (1 + 년이율 × 기간) $\n",
    "    * <font color=red><b>$복리 = 원금 × (1 + 년이율)^{기간} $  "
   ]
  },
  {
   "cell_type": "markdown",
   "id": "3301fcfe-f36c-407a-83a1-fd5f7054433d",
   "metadata": {},
   "source": [
    "## 누적 수익률"
   ]
  },
  {
   "cell_type": "markdown",
   "id": "d9e667d3-b157-4323-acb4-4ccbc88c9e65",
   "metadata": {},
   "source": [
    "<table style=\"border-collapse: collapse; width: 70%;\" border=\"1\">\n",
    "<tbody>\n",
    "<tr>\n",
    "<td style=\"width: 33.3333%;\"><span style=\"font-family: 'Nanum Gothic';\">기존</span></td>\n",
    "<td style=\"width: 33.3333%;\"><span style=\"font-family: 'Nanum Gothic';\">10,000원</span></td>\n",
    "<td style=\"width: 33.3333%;\"><span style=\"font-family: 'Nanum Gothic';\">0%</span></td>\n",
    "</tr>\n",
    "<tr>\n",
    "<td style=\"width: 33.3333%;\"><span style=\"font-family: 'Nanum Gothic';\">첫째달</span></td>\n",
    "<td style=\"width: 33.3333%;\"><span style=\"font-family: 'Nanum Gothic';\">11,000원</span></td>\n",
    "<td style=\"width: 33.3333%;\"><span style=\"font-family: 'Nanum Gothic';\">10% 상승</span></td>\n",
    "</tr>\n",
    "<tr>\n",
    "<td style=\"width: 33.3333%;\"><span style=\"font-family: 'Nanum Gothic';\">둘째달</span></td>\n",
    "<td style=\"width: 33.3333%;\"><span style=\"font-family: 'Nanum Gothic';\">13,200원</span></td>\n",
    "<td style=\"width: 33.3333%;\"><span style=\"font-family: 'Nanum Gothic';\">20% 상승</span></td>\n",
    "</tr>\n",
    "<tr>\n",
    "<td style=\"width: 33.3333%;\"><span style=\"font-family: 'Nanum Gothic';\"><b>누적 수익률</b></span></td>\n",
    "<td style=\"width: 33.3333%;\">&nbsp;</td>\n",
    "<td style=\"width: 33.3333%;\"><span style=\"font-family: 'Nanum Gothic';\">32% 상승</span></td>\n",
    "</tr>\n",
    "</tbody>\n",
    "</table>"
   ]
  },
  {
   "cell_type": "code",
   "execution_count": 5,
   "id": "4fccbfb5-02ca-4588-afab-54c40168ef36",
   "metadata": {
    "tags": []
   },
   "outputs": [
    {
     "data": {
      "text/plain": [
       "(10.0, 20.0)"
      ]
     },
     "execution_count": 5,
     "metadata": {},
     "output_type": "execute_result"
    }
   ],
   "source": [
    "((11000-10000) / 10000) * 100  ,  ((13200-11000) / 11000) * 100"
   ]
  },
  {
   "cell_type": "code",
   "execution_count": 6,
   "id": "732afa9f-3ced-47cb-83cb-2e963b9d7429",
   "metadata": {
    "tags": []
   },
   "outputs": [
    {
     "data": {
      "text/html": [
       "<div>\n",
       "<style scoped>\n",
       "    .dataframe tbody tr th:only-of-type {\n",
       "        vertical-align: middle;\n",
       "    }\n",
       "\n",
       "    .dataframe tbody tr th {\n",
       "        vertical-align: top;\n",
       "    }\n",
       "\n",
       "    .dataframe thead th {\n",
       "        text-align: right;\n",
       "    }\n",
       "</style>\n",
       "<table border=\"1\" class=\"dataframe\">\n",
       "  <thead>\n",
       "    <tr style=\"text-align: right;\">\n",
       "      <th></th>\n",
       "      <th>수익률</th>\n",
       "      <th>누적수익율</th>\n",
       "    </tr>\n",
       "  </thead>\n",
       "  <tbody>\n",
       "    <tr>\n",
       "      <th>0</th>\n",
       "      <td>0.1</td>\n",
       "      <td>0.10</td>\n",
       "    </tr>\n",
       "    <tr>\n",
       "      <th>1</th>\n",
       "      <td>0.2</td>\n",
       "      <td>0.32</td>\n",
       "    </tr>\n",
       "  </tbody>\n",
       "</table>\n",
       "</div>"
      ],
      "text/plain": [
       "   수익률  누적수익율\n",
       "0  0.1   0.10\n",
       "1  0.2   0.32"
      ]
     },
     "execution_count": 6,
     "metadata": {},
     "output_type": "execute_result"
    }
   ],
   "source": [
    "temp = pd.DataFrame({\"수익률\":[0.1, 0.2]})\n",
    "temp\n",
    "temp['누적수익율'] = (1+temp['수익률']).cumprod() - 1\n",
    "temp"
   ]
  },
  {
   "cell_type": "markdown",
   "id": "7070c350-a8a4-41dc-9bd1-fad63721ef61",
   "metadata": {
    "tags": []
   },
   "source": [
    "## 로그 수익률\n",
    "* logA + logB = log(A*B)\n",
    "* <font color=red><b> 로그 수익률은 합산(cumsum())\n",
    "* 100 --> 150(50%)  --> 100(-33%)\n",
    "<pre>\n",
    "<font color=red size=5><b>\n",
    "df1['수익률_chg'] = df1['종가'].pct_change()\n",
    "r = df1['수익률_chg']\n",
    "df1['누적수익률']  =( (1+r).cumprod() - 1 )\n",
    "df1['로그수익률']  = np.log( 1+r) \n",
    "df1['누적로그수익률']  =  np.log( 1+r).cumsum()"
   ]
  },
  {
   "cell_type": "code",
   "execution_count": 7,
   "id": "e666d140-747d-444f-96ec-8a73910e7a2d",
   "metadata": {
    "tags": []
   },
   "outputs": [
    {
     "data": {
      "text/plain": [
       "(0.5, -0.3333333333333333)"
      ]
     },
     "execution_count": 7,
     "metadata": {},
     "output_type": "execute_result"
    }
   ],
   "source": [
    "(150-100)/100,  (100-150)/150"
   ]
  },
  {
   "cell_type": "code",
   "execution_count": 8,
   "id": "9dd34a19-da34-4188-9385-df97c9c1a01a",
   "metadata": {
    "tags": []
   },
   "outputs": [
    {
     "data": {
      "text/plain": [
       "(3.912023005428146, -3.912023005428146)"
      ]
     },
     "execution_count": 8,
     "metadata": {},
     "output_type": "execute_result"
    }
   ],
   "source": [
    "np.log((150-100)), np.log((150-100))*-1"
   ]
  },
  {
   "cell_type": "code",
   "execution_count": 9,
   "id": "227a4b2f-a660-4b91-81de-f73056885297",
   "metadata": {
    "tags": []
   },
   "outputs": [
    {
     "data": {
      "text/html": [
       "<div>\n",
       "<style scoped>\n",
       "    .dataframe tbody tr th:only-of-type {\n",
       "        vertical-align: middle;\n",
       "    }\n",
       "\n",
       "    .dataframe tbody tr th {\n",
       "        vertical-align: top;\n",
       "    }\n",
       "\n",
       "    .dataframe thead th {\n",
       "        text-align: right;\n",
       "    }\n",
       "</style>\n",
       "<table border=\"1\" class=\"dataframe\">\n",
       "  <thead>\n",
       "    <tr style=\"text-align: right;\">\n",
       "      <th></th>\n",
       "      <th>종가</th>\n",
       "      <th>등락률</th>\n",
       "      <th>수익률_chg</th>\n",
       "      <th>누적수익률</th>\n",
       "      <th>로그수익률</th>\n",
       "      <th>누적로그수익률</th>\n",
       "    </tr>\n",
       "    <tr>\n",
       "      <th>날짜</th>\n",
       "      <th></th>\n",
       "      <th></th>\n",
       "      <th></th>\n",
       "      <th></th>\n",
       "      <th></th>\n",
       "      <th></th>\n",
       "    </tr>\n",
       "  </thead>\n",
       "  <tbody>\n",
       "    <tr>\n",
       "      <th>2022-01-03</th>\n",
       "      <td>78600</td>\n",
       "      <td>0.38</td>\n",
       "      <td>NaN</td>\n",
       "      <td>NaN</td>\n",
       "      <td>NaN</td>\n",
       "      <td>NaN</td>\n",
       "    </tr>\n",
       "    <tr>\n",
       "      <th>2022-01-04</th>\n",
       "      <td>78700</td>\n",
       "      <td>0.13</td>\n",
       "      <td>0.001272</td>\n",
       "      <td>0.127226</td>\n",
       "      <td>0.001271</td>\n",
       "      <td>0.127146</td>\n",
       "    </tr>\n",
       "    <tr>\n",
       "      <th>2022-01-05</th>\n",
       "      <td>77400</td>\n",
       "      <td>-1.65</td>\n",
       "      <td>-0.016518</td>\n",
       "      <td>-1.526718</td>\n",
       "      <td>-0.016656</td>\n",
       "      <td>-1.538492</td>\n",
       "    </tr>\n",
       "    <tr>\n",
       "      <th>2022-01-06</th>\n",
       "      <td>76900</td>\n",
       "      <td>-0.65</td>\n",
       "      <td>-0.006460</td>\n",
       "      <td>-2.162850</td>\n",
       "      <td>-0.006481</td>\n",
       "      <td>-2.186582</td>\n",
       "    </tr>\n",
       "    <tr>\n",
       "      <th>2022-01-07</th>\n",
       "      <td>78300</td>\n",
       "      <td>1.82</td>\n",
       "      <td>0.018205</td>\n",
       "      <td>-0.381679</td>\n",
       "      <td>0.018042</td>\n",
       "      <td>-0.382410</td>\n",
       "    </tr>\n",
       "    <tr>\n",
       "      <th>2022-01-10</th>\n",
       "      <td>78000</td>\n",
       "      <td>-0.38</td>\n",
       "      <td>-0.003831</td>\n",
       "      <td>-0.763359</td>\n",
       "      <td>-0.003839</td>\n",
       "      <td>-0.766287</td>\n",
       "    </tr>\n",
       "    <tr>\n",
       "      <th>2022-01-11</th>\n",
       "      <td>78900</td>\n",
       "      <td>1.15</td>\n",
       "      <td>0.011538</td>\n",
       "      <td>0.381679</td>\n",
       "      <td>0.011472</td>\n",
       "      <td>0.380953</td>\n",
       "    </tr>\n",
       "    <tr>\n",
       "      <th>2022-01-12</th>\n",
       "      <td>78900</td>\n",
       "      <td>0.00</td>\n",
       "      <td>0.000000</td>\n",
       "      <td>0.381679</td>\n",
       "      <td>0.000000</td>\n",
       "      <td>0.380953</td>\n",
       "    </tr>\n",
       "    <tr>\n",
       "      <th>2022-01-13</th>\n",
       "      <td>77900</td>\n",
       "      <td>-1.27</td>\n",
       "      <td>-0.012674</td>\n",
       "      <td>-0.890585</td>\n",
       "      <td>-0.012755</td>\n",
       "      <td>-0.894575</td>\n",
       "    </tr>\n",
       "    <tr>\n",
       "      <th>2022-01-14</th>\n",
       "      <td>77300</td>\n",
       "      <td>-0.77</td>\n",
       "      <td>-0.007702</td>\n",
       "      <td>-1.653944</td>\n",
       "      <td>-0.007732</td>\n",
       "      <td>-1.667774</td>\n",
       "    </tr>\n",
       "    <tr>\n",
       "      <th>2022-01-17</th>\n",
       "      <td>77500</td>\n",
       "      <td>0.26</td>\n",
       "      <td>0.002587</td>\n",
       "      <td>-1.399491</td>\n",
       "      <td>0.002584</td>\n",
       "      <td>-1.409376</td>\n",
       "    </tr>\n",
       "    <tr>\n",
       "      <th>2022-01-18</th>\n",
       "      <td>77000</td>\n",
       "      <td>-0.65</td>\n",
       "      <td>-0.006452</td>\n",
       "      <td>-2.035623</td>\n",
       "      <td>-0.006473</td>\n",
       "      <td>-2.056628</td>\n",
       "    </tr>\n",
       "    <tr>\n",
       "      <th>2022-01-19</th>\n",
       "      <td>76300</td>\n",
       "      <td>-0.91</td>\n",
       "      <td>-0.009091</td>\n",
       "      <td>-2.926209</td>\n",
       "      <td>-0.009132</td>\n",
       "      <td>-2.969876</td>\n",
       "    </tr>\n",
       "    <tr>\n",
       "      <th>2022-01-20</th>\n",
       "      <td>76500</td>\n",
       "      <td>0.26</td>\n",
       "      <td>0.002621</td>\n",
       "      <td>-2.671756</td>\n",
       "      <td>0.002618</td>\n",
       "      <td>-2.708096</td>\n",
       "    </tr>\n",
       "    <tr>\n",
       "      <th>2022-01-21</th>\n",
       "      <td>75600</td>\n",
       "      <td>-1.18</td>\n",
       "      <td>-0.011765</td>\n",
       "      <td>-3.816794</td>\n",
       "      <td>-0.011834</td>\n",
       "      <td>-3.891542</td>\n",
       "    </tr>\n",
       "    <tr>\n",
       "      <th>2022-01-24</th>\n",
       "      <td>75100</td>\n",
       "      <td>-0.66</td>\n",
       "      <td>-0.006614</td>\n",
       "      <td>-4.452926</td>\n",
       "      <td>-0.006636</td>\n",
       "      <td>-4.555114</td>\n",
       "    </tr>\n",
       "    <tr>\n",
       "      <th>2022-01-25</th>\n",
       "      <td>74000</td>\n",
       "      <td>-1.46</td>\n",
       "      <td>-0.014647</td>\n",
       "      <td>-5.852417</td>\n",
       "      <td>-0.014755</td>\n",
       "      <td>-6.030661</td>\n",
       "    </tr>\n",
       "    <tr>\n",
       "      <th>2022-01-26</th>\n",
       "      <td>73300</td>\n",
       "      <td>-0.95</td>\n",
       "      <td>-0.009459</td>\n",
       "      <td>-6.743003</td>\n",
       "      <td>-0.009504</td>\n",
       "      <td>-6.981109</td>\n",
       "    </tr>\n",
       "    <tr>\n",
       "      <th>2022-01-27</th>\n",
       "      <td>71300</td>\n",
       "      <td>-2.73</td>\n",
       "      <td>-0.027285</td>\n",
       "      <td>-9.287532</td>\n",
       "      <td>-0.027664</td>\n",
       "      <td>-9.747537</td>\n",
       "    </tr>\n",
       "    <tr>\n",
       "      <th>2022-01-28</th>\n",
       "      <td>73300</td>\n",
       "      <td>2.81</td>\n",
       "      <td>0.028050</td>\n",
       "      <td>-6.743003</td>\n",
       "      <td>0.027664</td>\n",
       "      <td>-6.981109</td>\n",
       "    </tr>\n",
       "  </tbody>\n",
       "</table>\n",
       "</div>"
      ],
      "text/plain": [
       "               종가   등락률   수익률_chg     누적수익률     로그수익률   누적로그수익률\n",
       "날짜                                                             \n",
       "2022-01-03  78600  0.38       NaN       NaN       NaN       NaN\n",
       "2022-01-04  78700  0.13  0.001272  0.127226  0.001271  0.127146\n",
       "2022-01-05  77400 -1.65 -0.016518 -1.526718 -0.016656 -1.538492\n",
       "2022-01-06  76900 -0.65 -0.006460 -2.162850 -0.006481 -2.186582\n",
       "2022-01-07  78300  1.82  0.018205 -0.381679  0.018042 -0.382410\n",
       "2022-01-10  78000 -0.38 -0.003831 -0.763359 -0.003839 -0.766287\n",
       "2022-01-11  78900  1.15  0.011538  0.381679  0.011472  0.380953\n",
       "2022-01-12  78900  0.00  0.000000  0.381679  0.000000  0.380953\n",
       "2022-01-13  77900 -1.27 -0.012674 -0.890585 -0.012755 -0.894575\n",
       "2022-01-14  77300 -0.77 -0.007702 -1.653944 -0.007732 -1.667774\n",
       "2022-01-17  77500  0.26  0.002587 -1.399491  0.002584 -1.409376\n",
       "2022-01-18  77000 -0.65 -0.006452 -2.035623 -0.006473 -2.056628\n",
       "2022-01-19  76300 -0.91 -0.009091 -2.926209 -0.009132 -2.969876\n",
       "2022-01-20  76500  0.26  0.002621 -2.671756  0.002618 -2.708096\n",
       "2022-01-21  75600 -1.18 -0.011765 -3.816794 -0.011834 -3.891542\n",
       "2022-01-24  75100 -0.66 -0.006614 -4.452926 -0.006636 -4.555114\n",
       "2022-01-25  74000 -1.46 -0.014647 -5.852417 -0.014755 -6.030661\n",
       "2022-01-26  73300 -0.95 -0.009459 -6.743003 -0.009504 -6.981109\n",
       "2022-01-27  71300 -2.73 -0.027285 -9.287532 -0.027664 -9.747537\n",
       "2022-01-28  73300  2.81  0.028050 -6.743003  0.027664 -6.981109"
      ]
     },
     "execution_count": 9,
     "metadata": {},
     "output_type": "execute_result"
    }
   ],
   "source": [
    "df1['수익률_chg'] = df1['종가'].pct_change()\n",
    "r = df1['수익률_chg']\n",
    "df1['누적수익률']  =( (1+r).cumprod() - 1 ) *100\n",
    "df1['로그수익률']  = np.log( 1+r) \n",
    "df1['누적로그수익률']  =  np.log( 1+r).cumsum() *100\n",
    "df1"
   ]
  },
  {
   "cell_type": "markdown",
   "id": "630dd935-9bfc-46d9-a93b-d3d18fb39bc1",
   "metadata": {},
   "source": [
    "* 기간 수익률 = 최종금액 / 최초금액df"
   ]
  },
  {
   "cell_type": "code",
   "execution_count": 10,
   "id": "b8a3740e-d130-4511-8ef5-04249547e0a5",
   "metadata": {
    "tags": []
   },
   "outputs": [
    {
     "data": {
      "text/plain": [
       "6.743002544529262"
      ]
     },
     "execution_count": 10,
     "metadata": {},
     "output_type": "execute_result"
    }
   ],
   "source": [
    "( (78600-73300) / 78600 ) * 100"
   ]
  },
  {
   "cell_type": "markdown",
   "id": "6cf95b7e-aa8a-460b-a787-09abc2ea5d18",
   "metadata": {},
   "source": [
    "* 수익률 플로팅"
   ]
  },
  {
   "cell_type": "code",
   "execution_count": 11,
   "id": "46ac27b1-c411-4d88-809d-25fc886a6914",
   "metadata": {
    "tags": []
   },
   "outputs": [],
   "source": [
    "plt.rcParams['font.family']= 'Malgun Gothic'\n",
    "plt.rcParams['axes.unicode_minus'] = False"
   ]
  },
  {
   "cell_type": "code",
   "execution_count": 12,
   "id": "886bcefd-7aba-43da-8888-48165783daf7",
   "metadata": {},
   "outputs": [
    {
     "data": {
      "image/png": "[encoded data removed]",
      "text/plain": [
       "<Figure size 1000x500 with 3 Axes>"
      ]
     },
     "metadata": {},
     "output_type": "display_data"
    }
   ],
   "source": [
    "plt.figure(figsize=(10, 5))\n",
    "plt.subplot(1,3,1)\n",
    "plt.plot(df1['종가'])\n",
    "\n",
    "plt.subplot(1,3,2)\n",
    "# (1+r).pct_change() -1\n",
    "plt.plot( df1['누적수익률'])\n",
    "\n",
    "plt.subplot(1,3,3)\n",
    "# np.log(1 + r)\n",
    "plt.plot(  df1['누적로그수익률'] )\n",
    "\n",
    "plt.show()"
   ]
  },
  {
   "cell_type": "markdown",
   "id": "87d16e9c-684f-44b7-bd4d-c45a048b358d",
   "metadata": {},
   "source": [
    "* 연간 수익률이 10%이고 거래일이 30일인 경우, 복리 일간 수익률"
   ]
  },
  {
   "cell_type": "code",
   "execution_count": 13,
   "id": "a92e0f66-960b-400f-b1f9-3d7c26ed43e7",
   "metadata": {
    "tags": []
   },
   "outputs": [
    {
     "name": "stdout",
     "output_type": "stream",
     "text": [
      "복리 일간 수익률: 1.14%\n"
     ]
    }
   ],
   "source": [
    "annual_return = 0.1\n",
    "trading_days = 30\n",
    "\n",
    "daily_return          = ((1 + annual_return) ** (1/252)     ) - 1\n",
    "compound_daily_return = ((1 + daily_return ) ** trading_days) - 1\n",
    "\n",
    "print(\"복리 일간 수익률: {:.2%}\".format(compound_daily_return))"
   ]
  },
  {
   "cell_type": "markdown",
   "id": "2dc2ebaf-6b0f-41a1-abde-b6081a932d31",
   "metadata": {
    "tags": []
   },
   "source": [
    "# 월단위 리샘플링\n",
    "* T S A Q W D h min"
   ]
  },
  {
   "cell_type": "markdown",
   "id": "c6d27ac2-954f-4377-9edb-f333e31fbc3c",
   "metadata": {},
   "source": [
    "<table style=\"border-collapse: collapse; width: 70%; height: 459px;\" border=\"1\" data-ke-align=\"alignLeft\">\n",
    "<tbody>\n",
    "<tr style=\"height: 17px;\">\n",
    "<td style=\"width: 15.5814%; height: 17px;\">B</td>\n",
    "<td style=\"width: 36.9767%; height: 17px;\">영업일 기준 빈도</td>\n",
    "<td style=\"width: 47.4419%;\">Business day frequency</td>\n",
    "</tr>\n",
    "<tr style=\"height: 17px;\">\n",
    "<td style=\"width: 15.5814%; height: 17px;\">C</td>\n",
    "<td style=\"width: 36.9767%; height: 17px;\">사용자 정의한 영업일 기준 빈도</td>\n",
    "<td style=\"width: 47.4419%;\">Custom Business day frequency</td>\n",
    "</tr>\n",
    "<tr style=\"height: 17px;\">\n",
    "<td style=\"width: 15.5814%; height: 17px;\">D</td>\n",
    "<td style=\"width: 36.9767%; height: 17px;\">일 빈도</td>\n",
    "<td style=\"width: 47.4419%;\">Calendar day frequency</td>\n",
    "</tr>\n",
    "<tr style=\"height: 17px;\">\n",
    "<td style=\"width: 15.5814%; height: 17px;\">W</td>\n",
    "<td style=\"width: 36.9767%; height: 17px;\">주간 빈도</td>\n",
    "<td style=\"width: 47.4419%;\">Weekly frequency</td>\n",
    "</tr>\n",
    "<tr style=\"height: 17px;\">\n",
    "<td style=\"width: 15.5814%; height: 17px;\">M</td>\n",
    "<td style=\"width: 36.9767%; height: 17px;\">월 빈도</td>\n",
    "<td style=\"width: 47.4419%;\">Month end frequency</td>\n",
    "</tr>\n",
    "<tr style=\"height: 17px;\">\n",
    "<td style=\"width: 15.5814%; height: 17px;\">SM</td>\n",
    "<td style=\"width: 36.9767%; height: 17px;\">15일 기준 빈도</td>\n",
    "<td style=\"width: 47.4419%;\">semi-month end frequency</td>\n",
    "</tr>\n",
    "<tr style=\"height: 17px;\">\n",
    "<td style=\"width: 15.5814%; height: 17px;\">BM</td>\n",
    "<td style=\"width: 36.9767%; height: 17px;\">영업 종료 월 빈도</td>\n",
    "<td style=\"width: 47.4419%;\">business month end frequency</td>\n",
    "</tr>\n",
    "<tr style=\"height: 17px;\">\n",
    "<td style=\"width: 15.5814%; height: 17px;\">CBM</td>\n",
    "<td style=\"width: 36.9767%; height: 17px;\">사용자 정의 기준 비지니스 우러 빈도</td>\n",
    "<td style=\"width: 47.4419%;\">cusom business month end frequency</td>\n",
    "</tr>\n",
    "<tr style=\"height: 17px;\">\n",
    "<td style=\"width: 15.5814%; height: 17px;\">MS</td>\n",
    "<td style=\"width: 36.9767%; height: 17px;\">월 시작 빈도</td>\n",
    "<td style=\"width: 47.4419%;\">month start frequency</td>\n",
    "</tr>\n",
    "<tr style=\"height: 17px;\">\n",
    "<td style=\"width: 15.5814%; height: 17px;\">SMS</td>\n",
    "<td style=\"width: 36.9767%; height: 17px;\">15일 기준으로 시작 기준인 빈도</td>\n",
    "<td style=\"width: 47.4419%;\">semi-month start frequncy (1st and 15th)</td>\n",
    "</tr>\n",
    "<tr style=\"height: 17px;\">\n",
    "<td style=\"width: 15.5814%; height: 17px;\">BMS</td>\n",
    "<td style=\"width: 36.9767%; height: 17px;\">영업 월 시작 기준 빈도</td>\n",
    "<td style=\"width: 47.4419%;\">Business month start frequency</td>\n",
    "</tr>\n",
    "<tr style=\"height: 17px;\">\n",
    "<td style=\"width: 15.5814%; height: 17px;\">CBMS</td>\n",
    "<td style=\"width: 36.9767%; height: 17px;\">사용자 정의 비지니스 월 시작기준 빈도</td>\n",
    "<td style=\"width: 47.4419%;\">Custom Business month start frequency</td>\n",
    "</tr>\n",
    "<tr style=\"height: 17px;\">\n",
    "<td style=\"width: 15.5814%; height: 17px;\">Q</td>\n",
    "<td style=\"width: 36.9767%; height: 17px;\">분기 기준</td>\n",
    "<td style=\"width: 47.4419%;\">quarter end freqency</td>\n",
    "</tr>\n",
    "<tr style=\"height: 17px;\">\n",
    "<td style=\"width: 15.5814%; height: 17px;\">BQ</td>\n",
    "<td style=\"width: 36.9767%; height: 17px;\">사업 분기 빈도</td>\n",
    "<td style=\"width: 47.4419%;\">business quarter end frequency</td>\n",
    "</tr>\n",
    "<tr style=\"height: 17px;\">\n",
    "<td style=\"width: 15.5814%; height: 17px;\">QS</td>\n",
    "<td style=\"width: 36.9767%; height: 17px;\">분기 시작 빈도</td>\n",
    "<td style=\"width: 47.4419%;\">business start frequency</td>\n",
    "</tr>\n",
    "<tr style=\"height: 17px;\">\n",
    "<td style=\"width: 15.5814%; height: 17px;\">BQS</td>\n",
    "<td style=\"width: 36.9767%; height: 17px;\">비지니스 분기 시작 빈도</td>\n",
    "<td style=\"width: 47.4419%;\">business quarter start frequency</td>\n",
    "</tr>\n",
    "<tr style=\"height: 17px;\">\n",
    "<td style=\"width: 15.5814%; height: 17px;\">A, Y</td>\n",
    "<td style=\"width: 36.9767%; height: 17px;\">연말 끝 기준 빈도</td>\n",
    "<td style=\"width: 47.4419%;\">year end frequency</td>\n",
    "</tr>\n",
    "<tr style=\"height: 17px;\">\n",
    "<td style=\"width: 15.5814%; height: 17px;\">BA, BY</td>\n",
    "<td style=\"width: 36.9767%; height: 17px;\">사업 연도</td>\n",
    "<td style=\"width: 47.4419%;\">business year end frequency</td>\n",
    "</tr>\n",
    "<tr style=\"height: 17px;\">\n",
    "<td style=\"width: 15.5814%; height: 17px;\">AS, YS</td>\n",
    "<td style=\"width: 36.9767%; height: 17px;\">연도 시작 빈도</td>\n",
    "<td style=\"width: 47.4419%;\">year start frequency</td>\n",
    "</tr>\n",
    "<tr style=\"height: 17px;\">\n",
    "<td style=\"width: 15.5814%; height: 17px;\">BAS, BYS</td>\n",
    "<td style=\"width: 36.9767%; height: 17px;\">사업 연도 시작 빈도</td>\n",
    "<td style=\"width: 47.4419%;\">business year start frequency</td>\n",
    "</tr>\n",
    "<tr style=\"height: 17px;\">\n",
    "<td style=\"width: 15.5814%; height: 17px;\">BH</td>\n",
    "<td style=\"width: 36.9767%; height: 17px;\">영업 시간 빈도</td>\n",
    "<td style=\"width: 47.4419%;\">business hour frequency</td>\n",
    "</tr>\n",
    "<tr style=\"height: 17px;\">\n",
    "<td style=\"width: 15.5814%; height: 17px;\">H</td>\n",
    "<td style=\"width: 36.9767%; height: 17px;\">시간 당 빈도</td>\n",
    "<td style=\"width: 47.4419%;\">hourly frequency</td>\n",
    "</tr>\n",
    "<tr style=\"height: 17px;\">\n",
    "<td style=\"width: 15.5814%; height: 17px;\">T, min</td>\n",
    "<td style=\"width: 36.9767%; height: 17px;\">분 당 빈도</td>\n",
    "<td style=\"width: 47.4419%;\">minutely frequency</td>\n",
    "</tr>\n",
    "<tr style=\"height: 17px;\">\n",
    "<td style=\"width: 15.5814%; height: 17px;\">S</td>\n",
    "<td style=\"width: 36.9767%; height: 17px;\">초 당 빈도</td>\n",
    "<td style=\"width: 47.4419%;\">secondly frequency</td>\n",
    "</tr>\n",
    "<tr style=\"height: 17px;\">\n",
    "<td style=\"width: 15.5814%; height: 17px;\">L, ms</td>\n",
    "<td style=\"width: 36.9767%; height: 17px;\">밀리초 당 빈도</td>\n",
    "<td style=\"width: 47.4419%;\">miliseconds</td>\n",
    "</tr>\n",
    "<tr style=\"height: 17px;\">\n",
    "<td style=\"width: 15.5814%; height: 17px;\">U, us</td>\n",
    "<td style=\"width: 36.9767%; height: 17px;\">마이크로 초 기준 빈도</td>\n",
    "<td style=\"width: 47.4419%;\">microseconds</td>\n",
    "</tr>\n",
    "<tr style=\"height: 17px;\">\n",
    "<td style=\"width: 15.5814%; height: 17px;\">N</td>\n",
    "<td style=\"width: 36.9767%; height: 17px;\">나노 초 빈도</td>\n",
    "<td style=\"width: 47.4419%;\">nanoseconds</td>\n",
    "</tr>\n",
    "</tbody>\n",
    "</table>"
   ]
  },
  {
   "cell_type": "code",
   "execution_count": 14,
   "id": "64819c77-2c5c-4908-8a07-28d8847e23ee",
   "metadata": {
    "tags": []
   },
   "outputs": [
    {
     "data": {
      "text/html": [
       "<div>\n",
       "<style scoped>\n",
       "    .dataframe tbody tr th:only-of-type {\n",
       "        vertical-align: middle;\n",
       "    }\n",
       "\n",
       "    .dataframe tbody tr th {\n",
       "        vertical-align: top;\n",
       "    }\n",
       "\n",
       "    .dataframe thead th {\n",
       "        text-align: right;\n",
       "    }\n",
       "</style>\n",
       "<table border=\"1\" class=\"dataframe\">\n",
       "  <thead>\n",
       "    <tr style=\"text-align: right;\">\n",
       "      <th></th>\n",
       "      <th>종가</th>\n",
       "      <th>등락률</th>\n",
       "    </tr>\n",
       "    <tr>\n",
       "      <th>날짜</th>\n",
       "      <th></th>\n",
       "      <th></th>\n",
       "    </tr>\n",
       "  </thead>\n",
       "  <tbody>\n",
       "    <tr>\n",
       "      <th>2022-01-31</th>\n",
       "      <td>76540.000000</td>\n",
       "      <td>-0.322500</td>\n",
       "    </tr>\n",
       "    <tr>\n",
       "      <th>2022-02-28</th>\n",
       "      <td>73688.888889</td>\n",
       "      <td>-0.085556</td>\n",
       "    </tr>\n",
       "    <tr>\n",
       "      <th>2022-03-31</th>\n",
       "      <td>70409.523810</td>\n",
       "      <td>-0.161429</td>\n",
       "    </tr>\n",
       "    <tr>\n",
       "      <th>2022-04-30</th>\n",
       "      <td>67395.238095</td>\n",
       "      <td>-0.142857</td>\n",
       "    </tr>\n",
       "    <tr>\n",
       "      <th>2022-05-31</th>\n",
       "      <td>66852.380952</td>\n",
       "      <td>0.006667</td>\n",
       "    </tr>\n",
       "    <tr>\n",
       "      <th>2022-06-30</th>\n",
       "      <td>61125.000000</td>\n",
       "      <td>-0.828000</td>\n",
       "    </tr>\n",
       "    <tr>\n",
       "      <th>2022-07-31</th>\n",
       "      <td>59547.619048</td>\n",
       "      <td>0.367619</td>\n",
       "    </tr>\n",
       "    <tr>\n",
       "      <th>2022-08-31</th>\n",
       "      <td>60272.727273</td>\n",
       "      <td>-0.121364</td>\n",
       "    </tr>\n",
       "    <tr>\n",
       "      <th>2022-09-30</th>\n",
       "      <td>55595.000000</td>\n",
       "      <td>-0.573000</td>\n",
       "    </tr>\n",
       "    <tr>\n",
       "      <th>2022-10-31</th>\n",
       "      <td>56710.526316</td>\n",
       "      <td>0.607895</td>\n",
       "    </tr>\n",
       "    <tr>\n",
       "      <th>2022-11-30</th>\n",
       "      <td>61090.909091</td>\n",
       "      <td>0.222273</td>\n",
       "    </tr>\n",
       "    <tr>\n",
       "      <th>2022-12-31</th>\n",
       "      <td>59080.952381</td>\n",
       "      <td>-0.546191</td>\n",
       "    </tr>\n",
       "  </tbody>\n",
       "</table>\n",
       "</div>"
      ],
      "text/plain": [
       "                      종가       등락률\n",
       "날짜                                \n",
       "2022-01-31  76540.000000 -0.322500\n",
       "2022-02-28  73688.888889 -0.085556\n",
       "2022-03-31  70409.523810 -0.161429\n",
       "2022-04-30  67395.238095 -0.142857\n",
       "2022-05-31  66852.380952  0.006667\n",
       "2022-06-30  61125.000000 -0.828000\n",
       "2022-07-31  59547.619048  0.367619\n",
       "2022-08-31  60272.727273 -0.121364\n",
       "2022-09-30  55595.000000 -0.573000\n",
       "2022-10-31  56710.526316  0.607895\n",
       "2022-11-30  61090.909091  0.222273\n",
       "2022-12-31  59080.952381 -0.546191"
      ]
     },
     "execution_count": 14,
     "metadata": {},
     "output_type": "execute_result"
    }
   ],
   "source": [
    "dfm = df.resample(rule='M').mean()\n",
    "dfm"
   ]
  },
  {
   "cell_type": "code",
   "execution_count": 15,
   "id": "aff65279-c573-4dde-8669-a98d0ae1c5da",
   "metadata": {
    "tags": []
   },
   "outputs": [
    {
     "data": {
      "text/html": [
       "<div>\n",
       "<style scoped>\n",
       "    .dataframe tbody tr th:only-of-type {\n",
       "        vertical-align: middle;\n",
       "    }\n",
       "\n",
       "    .dataframe tbody tr th {\n",
       "        vertical-align: top;\n",
       "    }\n",
       "\n",
       "    .dataframe thead th {\n",
       "        text-align: right;\n",
       "    }\n",
       "</style>\n",
       "<table border=\"1\" class=\"dataframe\">\n",
       "  <thead>\n",
       "    <tr style=\"text-align: right;\">\n",
       "      <th></th>\n",
       "      <th>날짜</th>\n",
       "      <th>삼성전자</th>\n",
       "      <th>LG에너지솔루션</th>\n",
       "      <th>SK하이닉스</th>\n",
       "      <th>삼성바이오로직스</th>\n",
       "      <th>삼성SDI</th>\n",
       "      <th>LG화학</th>\n",
       "      <th>삼성전자우</th>\n",
       "      <th>현대차</th>\n",
       "      <th>POSCO홀딩스</th>\n",
       "      <th>기아</th>\n",
       "    </tr>\n",
       "  </thead>\n",
       "  <tbody>\n",
       "    <tr>\n",
       "      <th>0</th>\n",
       "      <td>2023-04-03</td>\n",
       "      <td>63100</td>\n",
       "      <td>586000</td>\n",
       "      <td>87200</td>\n",
       "      <td>778000</td>\n",
       "      <td>745000</td>\n",
       "      <td>712000</td>\n",
       "      <td>53800</td>\n",
       "      <td>183600</td>\n",
       "      <td>392000</td>\n",
       "      <td>81200</td>\n",
       "    </tr>\n",
       "    <tr>\n",
       "      <th>1</th>\n",
       "      <td>2023-04-04</td>\n",
       "      <td>63600</td>\n",
       "      <td>575000</td>\n",
       "      <td>84500</td>\n",
       "      <td>788000</td>\n",
       "      <td>726000</td>\n",
       "      <td>722000</td>\n",
       "      <td>53700</td>\n",
       "      <td>183800</td>\n",
       "      <td>367000</td>\n",
       "      <td>80100</td>\n",
       "    </tr>\n",
       "    <tr>\n",
       "      <th>2</th>\n",
       "      <td>2023-04-05</td>\n",
       "      <td>63900</td>\n",
       "      <td>588000</td>\n",
       "      <td>84600</td>\n",
       "      <td>788000</td>\n",
       "      <td>778000</td>\n",
       "      <td>732000</td>\n",
       "      <td>53800</td>\n",
       "      <td>186700</td>\n",
       "      <td>373500</td>\n",
       "      <td>81300</td>\n",
       "    </tr>\n",
       "    <tr>\n",
       "      <th>3</th>\n",
       "      <td>2023-04-06</td>\n",
       "      <td>62300</td>\n",
       "      <td>580000</td>\n",
       "      <td>83800</td>\n",
       "      <td>805000</td>\n",
       "      <td>745000</td>\n",
       "      <td>716000</td>\n",
       "      <td>53100</td>\n",
       "      <td>185100</td>\n",
       "      <td>362500</td>\n",
       "      <td>81000</td>\n",
       "    </tr>\n",
       "    <tr>\n",
       "      <th>4</th>\n",
       "      <td>2023-04-07</td>\n",
       "      <td>65000</td>\n",
       "      <td>580000</td>\n",
       "      <td>89100</td>\n",
       "      <td>796000</td>\n",
       "      <td>738000</td>\n",
       "      <td>714000</td>\n",
       "      <td>54800</td>\n",
       "      <td>185100</td>\n",
       "      <td>369500</td>\n",
       "      <td>80100</td>\n",
       "    </tr>\n",
       "  </tbody>\n",
       "</table>\n",
       "</div>"
      ],
      "text/plain": [
       "           날짜   삼성전자  LG에너지솔루션  SK하이닉스  삼성바이오로직스   삼성SDI    LG화학  삼성전자우  \\\n",
       "0  2023-04-03  63100    586000   87200    778000  745000  712000  53800   \n",
       "1  2023-04-04  63600    575000   84500    788000  726000  722000  53700   \n",
       "2  2023-04-05  63900    588000   84600    788000  778000  732000  53800   \n",
       "3  2023-04-06  62300    580000   83800    805000  745000  716000  53100   \n",
       "4  2023-04-07  65000    580000   89100    796000  738000  714000  54800   \n",
       "\n",
       "      현대차  POSCO홀딩스     기아  \n",
       "0  183600    392000  81200  \n",
       "1  183800    367000  80100  \n",
       "2  186700    373500  81300  \n",
       "3  185100    362500  81000  \n",
       "4  185100    369500  80100  "
      ]
     },
     "execution_count": 15,
     "metadata": {},
     "output_type": "execute_result"
    }
   ],
   "source": [
    "top10_df = pd.read_csv(\"./datasets/kospi_top10.csv\")\n",
    "top10_df.head()"
   ]
  },
  {
   "cell_type": "code",
   "execution_count": 16,
   "id": "0102d6f9-1eb1-46f3-9515-4b99d13f365e",
   "metadata": {
    "tags": []
   },
   "outputs": [
    {
     "name": "stdout",
     "output_type": "stream",
     "text": [
      "          날짜    종가     월별수익률  월간복리수익률\n",
      "0 2022-01-31  1000       NaN      NaN\n",
      "1 2022-02-28  1100  0.100000      0.1\n",
      "2 2022-03-31  1200  0.090909      0.2\n",
      "3 2022-04-30  1300  0.083333      0.3\n",
      "4 2022-05-31  1400  0.076923      0.4\n"
     ]
    }
   ],
   "source": [
    "df = pd.DataFrame({'날짜': ['2022-01-31', '2022-02-28', '2022-03-31', '2022-04-30', '2022-05-31'],\n",
    "                   '종가': [1000, 1100, 1200, 1300, 1400]})\n",
    "\n",
    "df['날짜'] = pd.to_datetime(df['날짜'])\n",
    "df['월별수익률'] = df['종가'].pct_change()\n",
    "df['월간복리수익률'] = (1 + df['월별수익률']).cumprod() - 1\n",
    "print(df)"
   ]
  },
  {
   "cell_type": "code",
   "execution_count": 17,
   "id": "e12d4244-cc15-4bd0-8eff-204d2e2d852b",
   "metadata": {
    "tags": []
   },
   "outputs": [
    {
     "data": {
      "text/plain": [
       "DatetimeIndex(['2022-01-01', '2022-01-02', '2022-01-03', '2022-01-04',\n",
       "               '2022-01-05'],\n",
       "              dtype='datetime64[ns]', freq='D')"
      ]
     },
     "execution_count": 17,
     "metadata": {},
     "output_type": "execute_result"
    }
   ],
   "source": [
    "pd.date_range('2022-01-01', periods=5,  freq='D')"
   ]
  },
  {
   "cell_type": "code",
   "execution_count": 18,
   "id": "7a5da09f-0b1c-438b-a411-9fd3cc26f664",
   "metadata": {
    "tags": []
   },
   "outputs": [
    {
     "data": {
      "text/html": [
       "<div>\n",
       "<style scoped>\n",
       "    .dataframe tbody tr th:only-of-type {\n",
       "        vertical-align: middle;\n",
       "    }\n",
       "\n",
       "    .dataframe tbody tr th {\n",
       "        vertical-align: top;\n",
       "    }\n",
       "\n",
       "    .dataframe thead th {\n",
       "        text-align: right;\n",
       "    }\n",
       "</style>\n",
       "<table border=\"1\" class=\"dataframe\">\n",
       "  <thead>\n",
       "    <tr style=\"text-align: right;\">\n",
       "      <th></th>\n",
       "      <th>날짜</th>\n",
       "      <th>종가</th>\n",
       "      <th>daily_returns</th>\n",
       "      <th>cumulative_returns</th>\n",
       "    </tr>\n",
       "  </thead>\n",
       "  <tbody>\n",
       "    <tr>\n",
       "      <th>0</th>\n",
       "      <td>2022-01-01</td>\n",
       "      <td>1000</td>\n",
       "      <td>NaN</td>\n",
       "      <td>NaN</td>\n",
       "    </tr>\n",
       "    <tr>\n",
       "      <th>1</th>\n",
       "      <td>2022-01-02</td>\n",
       "      <td>1100</td>\n",
       "      <td>0.100000</td>\n",
       "      <td>0.0011</td>\n",
       "    </tr>\n",
       "    <tr>\n",
       "      <th>2</th>\n",
       "      <td>2022-01-03</td>\n",
       "      <td>1200</td>\n",
       "      <td>0.090909</td>\n",
       "      <td>0.0012</td>\n",
       "    </tr>\n",
       "    <tr>\n",
       "      <th>3</th>\n",
       "      <td>2022-01-04</td>\n",
       "      <td>1300</td>\n",
       "      <td>0.083333</td>\n",
       "      <td>0.0013</td>\n",
       "    </tr>\n",
       "    <tr>\n",
       "      <th>4</th>\n",
       "      <td>2022-01-05</td>\n",
       "      <td>1400</td>\n",
       "      <td>0.076923</td>\n",
       "      <td>0.0014</td>\n",
       "    </tr>\n",
       "  </tbody>\n",
       "</table>\n",
       "</div>"
      ],
      "text/plain": [
       "          날짜    종가  daily_returns  cumulative_returns\n",
       "0 2022-01-01  1000            NaN                 NaN\n",
       "1 2022-01-02  1100       0.100000              0.0011\n",
       "2 2022-01-03  1200       0.090909              0.0012\n",
       "3 2022-01-04  1300       0.083333              0.0013\n",
       "4 2022-01-05  1400       0.076923              0.0014"
      ]
     },
     "execution_count": 18,
     "metadata": {},
     "output_type": "execute_result"
    }
   ],
   "source": [
    "import pandas as pd\n",
    "\n",
    "df = pd.DataFrame({'날짜': pd.date_range('2022-01-01', periods=5,  freq='D'),\n",
    "                   '종가': [1000, 1100, 1200, 1300, 1400]})\n",
    "\n",
    "closing_prices = df['종가']\n",
    "\n",
    "# 첫 번째 날짜의 종가를 시작 가격으로 설정\n",
    "start_price = df.iloc[0]['종가']\n",
    "# 복리 일간 수익률\n",
    "df['daily_returns'] = df['종가'].pct_change()\n",
    "\n",
    "df['cumulative_returns'] = (1 + df['daily_returns']).cumprod()\n",
    "\n",
    "# 지수화(누적수익률) : 시작 가격으로 나누어 초기 누적 수익률을 1로 설정\n",
    "df['cumulative_returns'] = df['cumulative_returns'] / (df.iloc[0]['종가'] / 1)\n",
    "df"
   ]
  },
  {
   "cell_type": "markdown",
   "id": "7042b285-9d8d-4dff-bc77-31cc6d97a005",
   "metadata": {},
   "source": [
    "# 포트폴리오"
   ]
  },
  {
   "cell_type": "code",
   "execution_count": 19,
   "id": "42dbefab-6bdf-4fe7-b3b8-c19aa9935f3a",
   "metadata": {
    "tags": []
   },
   "outputs": [
    {
     "data": {
      "text/html": [
       "<div>\n",
       "<style scoped>\n",
       "    .dataframe tbody tr th:only-of-type {\n",
       "        vertical-align: middle;\n",
       "    }\n",
       "\n",
       "    .dataframe tbody tr th {\n",
       "        vertical-align: top;\n",
       "    }\n",
       "\n",
       "    .dataframe thead th {\n",
       "        text-align: right;\n",
       "    }\n",
       "</style>\n",
       "<table border=\"1\" class=\"dataframe\">\n",
       "  <thead>\n",
       "    <tr style=\"text-align: right;\">\n",
       "      <th></th>\n",
       "      <th>삼성전자</th>\n",
       "      <th>LG에너지솔루션</th>\n",
       "      <th>기아</th>\n",
       "    </tr>\n",
       "    <tr>\n",
       "      <th>날짜</th>\n",
       "      <th></th>\n",
       "      <th></th>\n",
       "      <th></th>\n",
       "    </tr>\n",
       "  </thead>\n",
       "  <tbody>\n",
       "    <tr>\n",
       "      <th>2023-04-03</th>\n",
       "      <td>63100</td>\n",
       "      <td>586000</td>\n",
       "      <td>81200</td>\n",
       "    </tr>\n",
       "    <tr>\n",
       "      <th>2023-04-04</th>\n",
       "      <td>63600</td>\n",
       "      <td>575000</td>\n",
       "      <td>80100</td>\n",
       "    </tr>\n",
       "    <tr>\n",
       "      <th>2023-04-05</th>\n",
       "      <td>63900</td>\n",
       "      <td>588000</td>\n",
       "      <td>81300</td>\n",
       "    </tr>\n",
       "    <tr>\n",
       "      <th>2023-04-06</th>\n",
       "      <td>62300</td>\n",
       "      <td>580000</td>\n",
       "      <td>81000</td>\n",
       "    </tr>\n",
       "    <tr>\n",
       "      <th>2023-04-07</th>\n",
       "      <td>65000</td>\n",
       "      <td>580000</td>\n",
       "      <td>80100</td>\n",
       "    </tr>\n",
       "  </tbody>\n",
       "</table>\n",
       "</div>"
      ],
      "text/plain": [
       "             삼성전자  LG에너지솔루션     기아\n",
       "날짜                                \n",
       "2023-04-03  63100    586000  81200\n",
       "2023-04-04  63600    575000  80100\n",
       "2023-04-05  63900    588000  81300\n",
       "2023-04-06  62300    580000  81000\n",
       "2023-04-07  65000    580000  80100"
      ]
     },
     "execution_count": 19,
     "metadata": {},
     "output_type": "execute_result"
    }
   ],
   "source": [
    "pdf = pd.read_csv(\"./datasets/kospi_top10.csv\") #.iloc[:, [1,2,10]]\n",
    "pdf = pdf.set_index('날짜')\n",
    "pdf = pdf.iloc[:, [0,1,9]]\n",
    "pdf.head()"
   ]
  },
  {
   "cell_type": "markdown",
   "id": "be2f5e3d-444c-48fb-aa02-1c20f1674f68",
   "metadata": {},
   "source": [
    "## 기대수익률(expected return)\n",
    "* <font color=red><b>포트폴리오의 각 자산에 대한 예상 수익률의 기하평균 --> ln(x)의 평균\n",
    "* 과거 수익률을 바탕으로 미래 수익률을 추정한 값\n",
    "* 일반적으로 로그 수익률을 많이 활용\n",
    "    * $로그수익률=\\ln (\\frac{나중\\, \\, 주가}{처음\\, \\, 주가}) = np.log(1+r)$\n",
    "    * r = (현재가격 - 이전가격) / 이전가격"
   ]
  },
  {
   "cell_type": "markdown",
   "id": "11a91fcb-10e6-44f1-b468-be009f267ca4",
   "metadata": {},
   "source": [
    "* 기하평균 : f(n) = ln x일 때의 일반화된 f-평균\n",
    "<img width=400 src=\"http://www.dentalnews.or.kr/data/photos/20210414/art_16178427616153_62e095.jpg\">"
   ]
  },
  {
   "cell_type": "markdown",
   "id": "1724eef7-b7d8-458f-9a0e-7ac264676dbb",
   "metadata": {},
   "source": [
    "### 자산별 기대 수익률 추정"
   ]
  },
  {
   "cell_type": "code",
   "execution_count": 20,
   "id": "30664175-849d-405f-a891-f803e649447b",
   "metadata": {
    "tags": []
   },
   "outputs": [
    {
     "data": {
      "text/html": [
       "<div>\n",
       "<style scoped>\n",
       "    .dataframe tbody tr th:only-of-type {\n",
       "        vertical-align: middle;\n",
       "    }\n",
       "\n",
       "    .dataframe tbody tr th {\n",
       "        vertical-align: top;\n",
       "    }\n",
       "\n",
       "    .dataframe thead th {\n",
       "        text-align: right;\n",
       "    }\n",
       "</style>\n",
       "<table border=\"1\" class=\"dataframe\">\n",
       "  <thead>\n",
       "    <tr style=\"text-align: right;\">\n",
       "      <th></th>\n",
       "      <th>삼성전자</th>\n",
       "      <th>LG에너지솔루션</th>\n",
       "      <th>기아</th>\n",
       "    </tr>\n",
       "    <tr>\n",
       "      <th>날짜</th>\n",
       "      <th></th>\n",
       "      <th></th>\n",
       "      <th></th>\n",
       "    </tr>\n",
       "  </thead>\n",
       "  <tbody>\n",
       "    <tr>\n",
       "      <th>2023-04-04</th>\n",
       "      <td>0.007893</td>\n",
       "      <td>-0.018950</td>\n",
       "      <td>-0.013639</td>\n",
       "    </tr>\n",
       "    <tr>\n",
       "      <th>2023-04-05</th>\n",
       "      <td>0.004706</td>\n",
       "      <td>0.022357</td>\n",
       "      <td>0.014870</td>\n",
       "    </tr>\n",
       "    <tr>\n",
       "      <th>2023-04-06</th>\n",
       "      <td>-0.025358</td>\n",
       "      <td>-0.013699</td>\n",
       "      <td>-0.003697</td>\n",
       "    </tr>\n",
       "    <tr>\n",
       "      <th>2023-04-07</th>\n",
       "      <td>0.042426</td>\n",
       "      <td>0.000000</td>\n",
       "      <td>-0.011173</td>\n",
       "    </tr>\n",
       "    <tr>\n",
       "      <th>2023-04-10</th>\n",
       "      <td>0.010712</td>\n",
       "      <td>0.027213</td>\n",
       "      <td>0.011173</td>\n",
       "    </tr>\n",
       "    <tr>\n",
       "      <th>2023-04-11</th>\n",
       "      <td>0.003040</td>\n",
       "      <td>0.023218</td>\n",
       "      <td>0.048202</td>\n",
       "    </tr>\n",
       "    <tr>\n",
       "      <th>2023-04-12</th>\n",
       "      <td>0.001516</td>\n",
       "      <td>-0.033336</td>\n",
       "      <td>0.012858</td>\n",
       "    </tr>\n",
       "    <tr>\n",
       "      <th>2023-04-13</th>\n",
       "      <td>0.001514</td>\n",
       "      <td>0.015139</td>\n",
       "      <td>0.005790</td>\n",
       "    </tr>\n",
       "    <tr>\n",
       "      <th>2023-04-14</th>\n",
       "      <td>-0.015244</td>\n",
       "      <td>-0.008382</td>\n",
       "      <td>-0.015125</td>\n",
       "    </tr>\n",
       "    <tr>\n",
       "      <th>2023-04-17</th>\n",
       "      <td>0.003067</td>\n",
       "      <td>-0.005063</td>\n",
       "      <td>-0.009423</td>\n",
       "    </tr>\n",
       "    <tr>\n",
       "      <th>2023-04-18</th>\n",
       "      <td>0.004584</td>\n",
       "      <td>0.001691</td>\n",
       "      <td>-0.021532</td>\n",
       "    </tr>\n",
       "    <tr>\n",
       "      <th>2023-04-19</th>\n",
       "      <td>-0.001526</td>\n",
       "      <td>-0.017036</td>\n",
       "      <td>0.032126</td>\n",
       "    </tr>\n",
       "    <tr>\n",
       "      <th>2023-04-20</th>\n",
       "      <td>-0.003058</td>\n",
       "      <td>-0.003442</td>\n",
       "      <td>-0.015340</td>\n",
       "    </tr>\n",
       "    <tr>\n",
       "      <th>2023-04-21</th>\n",
       "      <td>0.006107</td>\n",
       "      <td>-0.013889</td>\n",
       "      <td>-0.009558</td>\n",
       "    </tr>\n",
       "    <tr>\n",
       "      <th>2023-04-24</th>\n",
       "      <td>-0.007639</td>\n",
       "      <td>-0.010545</td>\n",
       "      <td>0.016667</td>\n",
       "    </tr>\n",
       "    <tr>\n",
       "      <th>2023-04-25</th>\n",
       "      <td>-0.024846</td>\n",
       "      <td>-0.026859</td>\n",
       "      <td>0.022184</td>\n",
       "    </tr>\n",
       "  </tbody>\n",
       "</table>\n",
       "</div>"
      ],
      "text/plain": [
       "                삼성전자  LG에너지솔루션        기아\n",
       "날짜                                      \n",
       "2023-04-04  0.007893 -0.018950 -0.013639\n",
       "2023-04-05  0.004706  0.022357  0.014870\n",
       "2023-04-06 -0.025358 -0.013699 -0.003697\n",
       "2023-04-07  0.042426  0.000000 -0.011173\n",
       "2023-04-10  0.010712  0.027213  0.011173\n",
       "2023-04-11  0.003040  0.023218  0.048202\n",
       "2023-04-12  0.001516 -0.033336  0.012858\n",
       "2023-04-13  0.001514  0.015139  0.005790\n",
       "2023-04-14 -0.015244 -0.008382 -0.015125\n",
       "2023-04-17  0.003067 -0.005063 -0.009423\n",
       "2023-04-18  0.004584  0.001691 -0.021532\n",
       "2023-04-19 -0.001526 -0.017036  0.032126\n",
       "2023-04-20 -0.003058 -0.003442 -0.015340\n",
       "2023-04-21  0.006107 -0.013889 -0.009558\n",
       "2023-04-24 -0.007639 -0.010545  0.016667\n",
       "2023-04-25 -0.024846 -0.026859  0.022184"
      ]
     },
     "execution_count": 20,
     "metadata": {},
     "output_type": "execute_result"
    }
   ],
   "source": [
    "ret_df = np.log(1+ pdf.pct_change())\n",
    "ret_df.dropna(inplace=True, axis=0)\n",
    "ret_df"
   ]
  },
  {
   "cell_type": "markdown",
   "id": "b227c444-1350-4643-a326-1b44656a8743",
   "metadata": {},
   "source": [
    "* <font color=red><b>일별 기대수익률"
   ]
  },
  {
   "cell_type": "code",
   "execution_count": 21,
   "id": "a1dbebd2-46fd-47c6-9a17-be63f6f69ee6",
   "metadata": {
    "tags": []
   },
   "outputs": [
    {
     "data": {
      "text/plain": [
       "삼성전자        0.000493\n",
       "LG에너지솔루션   -0.003849\n",
       "기아          0.004024\n",
       "dtype: float64"
      ]
     },
     "execution_count": 21,
     "metadata": {},
     "output_type": "execute_result"
    }
   ],
   "source": [
    "ret_df.mean()"
   ]
  },
  {
   "cell_type": "markdown",
   "id": "2af9690d-f951-4ac6-b6a1-cab121ee9147",
   "metadata": {},
   "source": [
    "* <font color=red><b>년간 기대수익률</b></font>\n",
    "    * 삼성전자는 1년에 평균적으로 12.4%의 로그 수익률을 기대할 수 있다."
   ]
  },
  {
   "cell_type": "code",
   "execution_count": 22,
   "id": "07495c4d-91a8-4137-b686-20f43c0c68fd",
   "metadata": {
    "tags": []
   },
   "outputs": [
    {
     "data": {
      "text/plain": [
       "삼성전자         12.431004\n",
       "LG에너지솔루션    -96.996344\n",
       "기아          101.405695\n",
       "dtype: float64"
      ]
     },
     "execution_count": 22,
     "metadata": {},
     "output_type": "execute_result"
    }
   ],
   "source": [
    "(ret_df.mean() * 252) * 100"
   ]
  },
  {
   "cell_type": "markdown",
   "id": "7f66afe3-6c46-4af7-aa1a-7d020488a554",
   "metadata": {
    "tags": []
   },
   "source": [
    "### 포트폴리오 기대수익률\n",
    "* v=[1,2,3] 이고 w=[4,5,6]\n",
    "* v.dot(w) -->  $v\\, ⋅\\, w=1\\times 4+2\\times 5+3\\times 6$"
   ]
  },
  {
   "cell_type": "markdown",
   "id": "0ccac396-b857-4445-a7fc-9c58f885fdd4",
   "metadata": {
    "tags": []
   },
   "source": [
    "* <font color=red><b> 자산별 년간 기대 수익률"
   ]
  },
  {
   "cell_type": "code",
   "execution_count": 23,
   "id": "effccf3b-b2bd-4de6-a586-2a36526f3cb7",
   "metadata": {
    "tags": []
   },
   "outputs": [
    {
     "data": {
      "text/plain": [
       "array([ 0.12431004, -0.96996344,  1.01405695])"
      ]
     },
     "execution_count": 23,
     "metadata": {},
     "output_type": "execute_result"
    }
   ],
   "source": [
    "er = (ret_df.mean() * 252).values\n",
    "er"
   ]
  },
  {
   "cell_type": "markdown",
   "id": "e700be1c-0eca-455c-92f5-cd8b946057ad",
   "metadata": {},
   "source": [
    "* <font color=red><b> 자산별 가중치"
   ]
  },
  {
   "cell_type": "code",
   "execution_count": 24,
   "id": "e27cd0d0-93c5-4d82-8f01-227fc9fba110",
   "metadata": {
    "tags": []
   },
   "outputs": [
    {
     "data": {
      "text/plain": [
       "[0.3, 0.1, 0.6]"
      ]
     },
     "execution_count": 24,
     "metadata": {},
     "output_type": "execute_result"
    }
   ],
   "source": [
    "w = [0.3, 0.1, 0.6]\n",
    "w"
   ]
  },
  {
   "cell_type": "markdown",
   "id": "752607fc-0849-4434-bfa4-e99ee7a18392",
   "metadata": {
    "tags": []
   },
   "source": [
    "* <font color=red><b> 포트폴리오 가중치 적용 - 년간 기대 수익률"
   ]
  },
  {
   "cell_type": "code",
   "execution_count": 25,
   "id": "5652fbfe-f086-4b06-a244-0b7c86d137ef",
   "metadata": {
    "tags": []
   },
   "outputs": [
    {
     "data": {
      "text/plain": [
       "0.5487308384940474"
      ]
     },
     "execution_count": 25,
     "metadata": {},
     "output_type": "execute_result"
    }
   ],
   "source": [
    "portpolio_er = np.dot(er, w)\n",
    "portpolio_er"
   ]
  },
  {
   "cell_type": "code",
   "execution_count": 26,
   "id": "adcadae3-86ba-4219-ad5e-41a3f53467b5",
   "metadata": {
    "tags": []
   },
   "outputs": [
    {
     "data": {
      "text/plain": [
       "-0.4432793585016894"
      ]
     },
     "execution_count": 26,
     "metadata": {},
     "output_type": "execute_result"
    }
   ],
   "source": [
    "np.dot(er, [0.3, 0.6, 0.1])"
   ]
  },
  {
   "cell_type": "markdown",
   "id": "cf0cc7c8-9026-4765-9528-2baf5cbb248b",
   "metadata": {
    "tags": []
   },
   "source": [
    "## 변동성 = 위험(risk)\n",
    "* <font color=red><b>자산별 기대수익률의 표준편차 == 수익률의 변동성(volatility)</b></font>\n",
    "* 편차(평균으로부터 떨어진 정도) --> 기대수익률의 분산\n",
    "    * 분산 : 편차 제곱 합의 평균\n",
    "    * 표준편차 : 루트(분산) \n",
    "* 편차가 크다 = 위험이 크다"
   ]
  },
  {
   "cell_type": "markdown",
   "id": "0618848c-ac16-4581-b3c0-e5238710a2c0",
   "metadata": {
    "tags": []
   },
   "source": [
    "### 자산별 위험 추정\n",
    "* 기대수익률df.<font color=red><b>std()</b></font> : for for.. 비추\n",
    "* 기대수익률df.<font color=red><b>cov()</b></font> : 내적"
   ]
  },
  {
   "cell_type": "markdown",
   "id": "fadccee2-dbc6-4525-b9b7-76995c2fb7fb",
   "metadata": {},
   "source": [
    "### 방법1) std() 사용"
   ]
  },
  {
   "cell_type": "markdown",
   "id": "ef7855a9-eb79-47bc-bb70-964c7e009268",
   "metadata": {},
   "source": [
    "* <font color=red><b>일간 변동성(리스크)"
   ]
  },
  {
   "cell_type": "code",
   "execution_count": 27,
   "id": "e0bd24ad-8fcf-4780-9449-0e02328103dd",
   "metadata": {
    "tags": []
   },
   "outputs": [
    {
     "data": {
      "text/plain": [
       "삼성전자        0.015577\n",
       "LG에너지솔루션    0.017993\n",
       "기아          0.019738\n",
       "dtype: float64"
      ]
     },
     "execution_count": 27,
     "metadata": {},
     "output_type": "execute_result"
    }
   ],
   "source": [
    "ret_df.std() "
   ]
  },
  {
   "cell_type": "markdown",
   "id": "aa6f7e47-7806-4359-87be-5134850762c5",
   "metadata": {
    "tags": []
   },
   "source": [
    "* <font color=red><b>년간 변동성(리스크)"
   ]
  },
  {
   "cell_type": "code",
   "execution_count": 28,
   "id": "d49a49d9-150f-4324-ab34-32e42e93c1a2",
   "metadata": {
    "tags": []
   },
   "outputs": [
    {
     "data": {
      "text/plain": [
       "삼성전자        24.727425\n",
       "LG에너지솔루션    28.562415\n",
       "기아          31.332530\n",
       "dtype: float64"
      ]
     },
     "execution_count": 28,
     "metadata": {},
     "output_type": "execute_result"
    }
   ],
   "source": [
    "(ret_df.std() * np.sqrt(252))  * 100"
   ]
  },
  {
   "cell_type": "markdown",
   "id": "f367aa9c-b662-49b1-af14-cb7c978ccb8b",
   "metadata": {
    "tags": []
   },
   "source": [
    "### 방법2) cov() 사용"
   ]
  },
  {
   "cell_type": "markdown",
   "id": "507b98c0-7af4-4d0d-a004-3774ab36c247",
   "metadata": {},
   "source": [
    "### 포트폴리오 위험"
   ]
  },
  {
   "cell_type": "markdown",
   "id": "53ac1037-4079-49d8-aa8b-675255231236",
   "metadata": {},
   "source": [
    "$\\left[\\begin{matrix}VAR[S_1]&COV[S_1,S_2]&\\cdots &COV[S_1,S_N]\\\\COV[S_2,S_1]&VAR[S_2]&\\cdots &COV[S_2,S_N]\\\\\\vdots &\\vdots &\\ddots &\\vdots \\\\COV[S_N,S_1]&COV[S_N,S_2]&\\cdots &VAR[S_N]\\end{matrix}\\right]$\n",
    "\n",
    "<font color=red><b>$\\sigma _p^2=\\omega \\ C\\ \\omega ^{\\top }$"
   ]
  },
  {
   "cell_type": "code",
   "execution_count": 29,
   "id": "b636c2f2-8477-4e72-86ba-9459cc147ed9",
   "metadata": {
    "tags": []
   },
   "outputs": [
    {
     "data": {
      "text/html": [
       "<div>\n",
       "<style scoped>\n",
       "    .dataframe tbody tr th:only-of-type {\n",
       "        vertical-align: middle;\n",
       "    }\n",
       "\n",
       "    .dataframe tbody tr th {\n",
       "        vertical-align: top;\n",
       "    }\n",
       "\n",
       "    .dataframe thead th {\n",
       "        text-align: right;\n",
       "    }\n",
       "</style>\n",
       "<table border=\"1\" class=\"dataframe\">\n",
       "  <thead>\n",
       "    <tr style=\"text-align: right;\">\n",
       "      <th></th>\n",
       "      <th>삼성전자</th>\n",
       "      <th>LG에너지솔루션</th>\n",
       "      <th>기아</th>\n",
       "    </tr>\n",
       "  </thead>\n",
       "  <tbody>\n",
       "    <tr>\n",
       "      <th>삼성전자</th>\n",
       "      <td>0.000243</td>\n",
       "      <td>0.000099</td>\n",
       "      <td>-0.000053</td>\n",
       "    </tr>\n",
       "    <tr>\n",
       "      <th>LG에너지솔루션</th>\n",
       "      <td>0.000099</td>\n",
       "      <td>0.000324</td>\n",
       "      <td>0.000065</td>\n",
       "    </tr>\n",
       "    <tr>\n",
       "      <th>기아</th>\n",
       "      <td>-0.000053</td>\n",
       "      <td>0.000065</td>\n",
       "      <td>0.000390</td>\n",
       "    </tr>\n",
       "  </tbody>\n",
       "</table>\n",
       "</div>"
      ],
      "text/plain": [
       "              삼성전자  LG에너지솔루션        기아\n",
       "삼성전자      0.000243  0.000099 -0.000053\n",
       "LG에너지솔루션  0.000099  0.000324  0.000065\n",
       "기아       -0.000053  0.000065  0.000390"
      ]
     },
     "execution_count": 29,
     "metadata": {},
     "output_type": "execute_result"
    }
   ],
   "source": [
    "cov_df = ret_df.cov()\n",
    "cov_df"
   ]
  },
  {
   "cell_type": "code",
   "execution_count": 30,
   "id": "d396c93b-fd3f-44b4-a9e2-4ec4d994b8fa",
   "metadata": {
    "tags": []
   },
   "outputs": [
    {
     "data": {
      "text/plain": [
       "(1.5576813543146775, 1.7992630211363294, 1.9737638504234662)"
      ]
     },
     "execution_count": 30,
     "metadata": {},
     "output_type": "execute_result"
    }
   ],
   "source": [
    "np.sqrt(cov_df.iloc[0,0])*100, np.sqrt(cov_df.iloc[1,1])*100, np.sqrt(cov_df.iloc[2,2])*100"
   ]
  },
  {
   "cell_type": "code",
   "execution_count": 31,
   "id": "7be92de2-7e98-468e-86b9-4f470accc421",
   "metadata": {
    "tags": []
   },
   "outputs": [
    {
     "data": {
      "text/plain": [
       "array([1.55768135, 1.79926302, 1.97376385])"
      ]
     },
     "execution_count": 31,
     "metadata": {},
     "output_type": "execute_result"
    }
   ],
   "source": [
    "(ret_df.std()*100).values"
   ]
  },
  {
   "cell_type": "markdown",
   "id": "2aaf1d5f-3e0d-4c49-b2c8-dd79e82d7e80",
   "metadata": {
    "tags": []
   },
   "source": [
    "* <font color=red><b>공분산 행렬을 이용한 년간 리스크"
   ]
  },
  {
   "cell_type": "code",
   "execution_count": 32,
   "id": "61cc6264-764f-441c-92a8-2cef21013108",
   "metadata": {
    "tags": []
   },
   "outputs": [
    {
     "data": {
      "text/html": [
       "<div>\n",
       "<style scoped>\n",
       "    .dataframe tbody tr th:only-of-type {\n",
       "        vertical-align: middle;\n",
       "    }\n",
       "\n",
       "    .dataframe tbody tr th {\n",
       "        vertical-align: top;\n",
       "    }\n",
       "\n",
       "    .dataframe thead th {\n",
       "        text-align: right;\n",
       "    }\n",
       "</style>\n",
       "<table border=\"1\" class=\"dataframe\">\n",
       "  <thead>\n",
       "    <tr style=\"text-align: right;\">\n",
       "      <th></th>\n",
       "      <th>삼성전자</th>\n",
       "      <th>LG에너지솔루션</th>\n",
       "      <th>기아</th>\n",
       "    </tr>\n",
       "  </thead>\n",
       "  <tbody>\n",
       "    <tr>\n",
       "      <th>삼성전자</th>\n",
       "      <td>0.061145</td>\n",
       "      <td>0.024989</td>\n",
       "      <td>-0.013294</td>\n",
       "    </tr>\n",
       "    <tr>\n",
       "      <th>LG에너지솔루션</th>\n",
       "      <td>0.024989</td>\n",
       "      <td>0.081581</td>\n",
       "      <td>0.016403</td>\n",
       "    </tr>\n",
       "    <tr>\n",
       "      <th>기아</th>\n",
       "      <td>-0.013294</td>\n",
       "      <td>0.016403</td>\n",
       "      <td>0.098173</td>\n",
       "    </tr>\n",
       "  </tbody>\n",
       "</table>\n",
       "</div>"
      ],
      "text/plain": [
       "              삼성전자  LG에너지솔루션        기아\n",
       "삼성전자      0.061145  0.024989 -0.013294\n",
       "LG에너지솔루션  0.024989  0.081581  0.016403\n",
       "기아       -0.013294  0.016403  0.098173"
      ]
     },
     "execution_count": 32,
     "metadata": {},
     "output_type": "execute_result"
    }
   ],
   "source": [
    "ret_df.cov()*252"
   ]
  },
  {
   "cell_type": "code",
   "execution_count": 33,
   "id": "08d9011b-641b-4522-9782-e9ebbe253730",
   "metadata": {
    "tags": []
   },
   "outputs": [
    {
     "data": {
      "text/plain": [
       "(0.247275150389197,\n",
       " 삼성전자        24.727425\n",
       " LG에너지솔루션    28.562415\n",
       " 기아          31.332530\n",
       " dtype: float64)"
      ]
     },
     "execution_count": 33,
     "metadata": {},
     "output_type": "execute_result"
    }
   ],
   "source": [
    "np.sqrt(0.061145), (ret_df.std() * np.sqrt(252))  * 100"
   ]
  },
  {
   "cell_type": "markdown",
   "id": "4681dec3-f774-4749-94b3-25e837b81261",
   "metadata": {
    "tags": []
   },
   "source": [
    "* <font color=red><b>포트폴리오 가중치 적용 - 년간 리스크\n",
    "    * <font color=red><b>$\\sigma _p^2=\\omega \\ C\\ \\omega ^{\\top }$"
   ]
  },
  {
   "cell_type": "code",
   "execution_count": 34,
   "id": "b60a450f-492b-427f-8afb-ef5501a34dee",
   "metadata": {
    "tags": []
   },
   "outputs": [
    {
     "data": {
      "text/plain": [
       "array([[ 0.06114455,  0.02498889, -0.0132935 ],\n",
       "       [ 0.02498889,  0.08158115,  0.01640269],\n",
       "       [-0.0132935 ,  0.01640269,  0.09817274]])"
      ]
     },
     "execution_count": 34,
     "metadata": {},
     "output_type": "execute_result"
    }
   ],
   "source": [
    "# annual_cov_matrix \n",
    "C = (ret_df.cov() * 252).values\n",
    "C"
   ]
  },
  {
   "cell_type": "code",
   "execution_count": 35,
   "id": "bc56628b-2ef5-4f70-aab0-e45c7783c8cc",
   "metadata": {
    "tags": []
   },
   "outputs": [
    {
     "data": {
      "text/plain": [
       "array([0.3, 0.1, 0.6])"
      ]
     },
     "execution_count": 35,
     "metadata": {},
     "output_type": "execute_result"
    }
   ],
   "source": [
    "w = np.array([0.3, 0.1, 0.6])\n",
    "w"
   ]
  },
  {
   "cell_type": "markdown",
   "id": "9f7a845c-5c90-4d1f-bf6a-b3d6953de7f1",
   "metadata": {},
   "source": [
    "* <font color=red><b>포트폴리오 최종 Risk"
   ]
  },
  {
   "cell_type": "code",
   "execution_count": 36,
   "id": "ee90c40f-4ef5-4a4d-ae51-39b3add99ea7",
   "metadata": {
    "tags": []
   },
   "outputs": [
    {
     "data": {
      "text/plain": [
       "0.20085567694798676"
      ]
     },
     "execution_count": 36,
     "metadata": {},
     "output_type": "execute_result"
    }
   ],
   "source": [
    "portfolio_var = np.dot( np.dot(w, C) , w.T) \n",
    "portfolio_std = np.sqrt(portfolio_var)\n",
    "portfolio_std"
   ]
  },
  {
   "cell_type": "markdown",
   "id": "245113df-73bd-44f6-91f0-a698b6883d2a",
   "metadata": {
    "tags": []
   },
   "source": [
    "* <b>종목별 상관계수</b></font>\n",
    "    * <font color=red><b>음의 상관계수</b></font>가 큰 종목들을 하나의 포트폴리오에 구성\n",
    "    * <font color=red><b>헷지(hedge)</b></font> : 울타리, 대비책\n",
    "    * 자산투자의 위험 분산 (투자한 자산의 하락에 대비하여 이를 상쇄하는 행위)"
   ]
  },
  {
   "cell_type": "code",
   "execution_count": 37,
   "id": "ee1743a0-e2fa-4341-94fc-f3d170544c5e",
   "metadata": {
    "tags": []
   },
   "outputs": [
    {
     "data": {
      "image/png": "[encoded data removed]",
      "text/plain": [
       "<Figure size 300x200 with 2 Axes>"
      ]
     },
     "metadata": {},
     "output_type": "display_data"
    }
   ],
   "source": [
    "plt.figure(figsize=(3,2))\n",
    "sns.heatmap(ret_df.corr(), fmt=\"0.2f\", annot=True)\n",
    "plt.show()"
   ]
  },
  {
   "cell_type": "code",
   "execution_count": 38,
   "id": "71ee28c7-20c2-443a-a157-3a16c3bebe72",
   "metadata": {},
   "outputs": [
    {
     "data": {
      "image/png": "[encoded data removed]",
      "text/plain": [
       "<Figure size 1000x300 with 1 Axes>"
      ]
     },
     "metadata": {},
     "output_type": "display_data"
    }
   ],
   "source": [
    "ret_df.cumsum().plot(figsize=(10,3))\n",
    "plt.legend()\n",
    "plt.show()"
   ]
  },
  {
   "cell_type": "markdown",
   "id": "4f9cdeb4-ab4c-46d1-888d-583bfccbd56c",
   "metadata": {},
   "source": [
    "# 효율적 투자 전략\n",
    "* <font color=red><b>샤프지수(Sharpe index) </b></font>\n",
    "    * (기대수익률 - 벤치마크수익률)의 기대값을 (기대수익률 - 벤치마크수익률)의 표준편차로 나눈 것\n",
    "    * <b>(수익률-무위험수익률) / 리스크  --> <font color=red>수익률/표준편차</font></b>\n",
    "    * <font color=red><b>샤프지수가 높다 == 수익률이 높다 == 위험이 적다 == 더 좋은 포트폴리오"
   ]
  },
  {
   "cell_type": "code",
   "execution_count": 39,
   "id": "8eda3ec4-2da4-4240-959f-d346d647f6a4",
   "metadata": {},
   "outputs": [
    {
     "name": "stdout",
     "output_type": "stream",
     "text": [
      "['삼성전자' 'LG에너지솔루션' '기아']\n"
     ]
    },
    {
     "data": {
      "text/html": [
       "<div>\n",
       "<style scoped>\n",
       "    .dataframe tbody tr th:only-of-type {\n",
       "        vertical-align: middle;\n",
       "    }\n",
       "\n",
       "    .dataframe tbody tr th {\n",
       "        vertical-align: top;\n",
       "    }\n",
       "\n",
       "    .dataframe thead th {\n",
       "        text-align: right;\n",
       "    }\n",
       "</style>\n",
       "<table border=\"1\" class=\"dataframe\">\n",
       "  <thead>\n",
       "    <tr style=\"text-align: right;\">\n",
       "      <th></th>\n",
       "      <th>Return</th>\n",
       "      <th>Risk</th>\n",
       "      <th>Sharp</th>\n",
       "      <th>Weight</th>\n",
       "    </tr>\n",
       "  </thead>\n",
       "  <tbody>\n",
       "    <tr>\n",
       "      <th>0</th>\n",
       "      <td>0.011538</td>\n",
       "      <td>0.182266</td>\n",
       "      <td>0.063301</td>\n",
       "      <td>[0.34, 0.35, 0.31]</td>\n",
       "    </tr>\n",
       "    <tr>\n",
       "      <th>1</th>\n",
       "      <td>0.013474</td>\n",
       "      <td>0.179341</td>\n",
       "      <td>0.075128</td>\n",
       "      <td>[0.43, 0.31, 0.26]</td>\n",
       "    </tr>\n",
       "    <tr>\n",
       "      <th>2</th>\n",
       "      <td>0.196874</td>\n",
       "      <td>0.195710</td>\n",
       "      <td>1.005945</td>\n",
       "      <td>[0.76, 0.07, 0.17]</td>\n",
       "    </tr>\n",
       "    <tr>\n",
       "      <th>3</th>\n",
       "      <td>-0.194273</td>\n",
       "      <td>0.215983</td>\n",
       "      <td>-0.899482</td>\n",
       "      <td>[0.09, 0.57, 0.34]</td>\n",
       "    </tr>\n",
       "    <tr>\n",
       "      <th>4</th>\n",
       "      <td>0.380727</td>\n",
       "      <td>0.244896</td>\n",
       "      <td>1.554645</td>\n",
       "      <td>[0.01, 0.32, 0.68]</td>\n",
       "    </tr>\n",
       "  </tbody>\n",
       "</table>\n",
       "</div>"
      ],
      "text/plain": [
       "     Return      Risk     Sharp              Weight\n",
       "0  0.011538  0.182266  0.063301  [0.34, 0.35, 0.31]\n",
       "1  0.013474  0.179341  0.075128  [0.43, 0.31, 0.26]\n",
       "2  0.196874  0.195710  1.005945  [0.76, 0.07, 0.17]\n",
       "3 -0.194273  0.215983 -0.899482  [0.09, 0.57, 0.34]\n",
       "4  0.380727  0.244896  1.554645  [0.01, 0.32, 0.68]"
      ]
     },
     "execution_count": 39,
     "metadata": {},
     "output_type": "execute_result"
    }
   ],
   "source": [
    "annual_ret = ret_df.mean()   * 252\n",
    "annual_cov = ret_df.cov() * 252\n",
    "\n",
    "port_ret     = [] \n",
    "port_risk    = [] \n",
    "port_weights = [] \n",
    "port_sharp   = [] \n",
    "stocks = ret_df.columns\n",
    "\n",
    "for _ in range(20000): \n",
    "    weights = np.random.random(len(stocks)) \n",
    "    weights = weights / np.sum(weights) \n",
    "\n",
    "    #------------------- 수익률, 리스크(편차), 샤프지수 -----------------------\n",
    "    returns = np.dot(weights, annual_ret) \n",
    "    risk    = np.sqrt(np.dot(weights.T, np.dot(annual_cov, weights))) \n",
    "    sharp   =  returns / risk\n",
    "    \n",
    "    port_ret.append(returns) \n",
    "    port_risk.append(risk) \n",
    "    port_weights.append(np.round(weights,2)) \n",
    "    port_sharp.append(sharp) \n",
    "    \n",
    "    \n",
    "port_dic = {'Return': port_ret, 'Risk': port_risk, 'Sharp':port_sharp ,'Weight': port_weights} \n",
    "df = pd.DataFrame(port_dic) \n",
    "print(f'{stocks.values}')\n",
    "df.head()"
   ]
  },
  {
   "cell_type": "code",
   "execution_count": 40,
   "id": "3a3d1889-80f0-429e-b1c6-d958948832eb",
   "metadata": {},
   "outputs": [
    {
     "name": "stdout",
     "output_type": "stream",
     "text": [
      "Expected annual return: 1.0032\n",
      "Annual volatility: 0.1731\n",
      "Sharpe Ratio: 3.3957\n"
     ]
    }
   ],
   "source": [
    "# 샤프치수   최대 포트\n",
    "sharp_max = df[df['Sharp'] == df['Sharp'].max()]['Sharp'].values[0]\n",
    "\n",
    "# 위험리스크 최소 포트\n",
    "risk_min  = df[df['Risk'] == df['Risk'].min()] ['Risk'].values[0]\n",
    "# 수익률     최대 포트\n",
    "return_max = df[df['Return'] == df['Return'].max()] ['Return'].values[0]\n",
    "\n",
    "\n",
    "#           Risk    Return\n",
    "# 6274  0.223144  0.760134\n",
    "#            Risk    Return\n",
    "# 12088  0.173086  0.283057\n",
    "#           Risk    Return\n",
    "# 1667  0.306557  0.982149\n",
    "\n",
    "print(f'Expected annual return: {return_max:.4f}')\n",
    "print(f'Annual volatility: {risk_min:.4f}')\n",
    "print(f'Sharpe Ratio: {sharp_max:.4f}')"
   ]
  },
  {
   "cell_type": "code",
   "execution_count": 41,
   "id": "02cb176e-cb23-4d0f-9241-1bcf8602ae37",
   "metadata": {},
   "outputs": [
    {
     "data": {
      "image/png": "[encoded data removed]",
      "text/plain": [
       "<Figure size 800x400 with 1 Axes>"
      ]
     },
     "metadata": {},
     "output_type": "display_data"
    }
   ],
   "source": [
    "# 샤프치수   최대 포트\n",
    "sharp_max = df[df['Sharp'] == df['Sharp'].max()]\n",
    "# 위험리스크 최소 포트\n",
    "risk_min  = df[df['Risk'] == df['Risk'].min()] \n",
    "# 수익률     최대 포트\n",
    "return_max = df[df['Return'] == df['Return'].max()] \n",
    "\n",
    "plt.figure(figsize=(8,4))\n",
    "sns.scatterplot(data=df        , x='Risk', y='Return'                     , label=f\"포트폴리오\")\n",
    "sns.scatterplot(data=sharp_max , x='Risk', y='Return', marker=\"^\", c='red', label=f\"sharp_max:{sharp_max['Weight'].values[0]}\")\n",
    "sns.scatterplot(data=risk_min  , x='Risk', y='Return', marker=\"*\", c='red', label=f\"risk_min:{risk_min['Weight'].values[0]}\")\n",
    "sns.scatterplot(data=return_max, x='Risk', y='Return', marker=\"s\", c='red', label=f\"return_max:{return_max['Weight'].values[0]}\")\n",
    "\n",
    "plt.title(f'Efficient Frontier_{stocks.values}') \n",
    "plt.xlabel('Risk') \n",
    "plt.ylabel('Expected Returns') \n",
    "plt.show() "
   ]
  }
 ],
 "metadata": {
  "kernelspec": {
   "display_name": "Python 3 (ipykernel)",
   "language": "python",
   "name": "python3"
  },
  "language_info": {
   "codemirror_mode": {
    "name": "ipython",
    "version": 3
   },
   "file_extension": ".py",
   "mimetype": "text/x-python",
   "name": "python",
   "nbconvert_exporter": "python",
   "pygments_lexer": "ipython3",
   "version": "3.8.8"
  }
 },
 "nbformat": 4,
 "nbformat_minor": 5
}
