{
 "cells": [
  {
   "cell_type": "markdown",
   "id": "7f04e3e3-b452-44ea-a84a-e0b63970b142",
   "metadata": {},
   "source": [
    "<font size=6><b>펀드 운용모델\n",
    "* 참고: 실습06_펀드_운용모델.xlsx"
   ]
  },
  {
   "cell_type": "code",
   "execution_count": 1,
   "id": "dc96e072-d8cb-493a-90fc-5b5aaa9e8826",
   "metadata": {
    "tags": []
   },
   "outputs": [
    {
     "data": {
      "text/html": [
       "<style>.container{width:100% !important;}</style>"
      ],
      "text/plain": [
       "<IPython.core.display.HTML object>"
      ]
     },
     "metadata": {},
     "output_type": "display_data"
    }
   ],
   "source": [
    "from pykrx import stock\n",
    "from pykrx import bond\n",
    "import FinanceDataReader as fdr\n",
    "\n",
    "from IPython.display import Image\n",
    "import pandas as pd\n",
    "import numpy as np\n",
    "import matplotlib.pyplot as plt\n",
    "import seaborn as sns\n",
    "\n",
    "import time\n",
    "\n",
    "\n",
    "import warnings\n",
    "warnings.filterwarnings(action='ignore')\n",
    "\n",
    "sns.set()\n",
    "#-------------------- 차트 관련 속성 (한글처리, 그리드) -----------\n",
    "#plt.rc('font', family='NanumGothicOTF') # For MacOS\n",
    "plt.rcParams['font.family']= 'Malgun Gothic'\n",
    "plt.rcParams['axes.unicode_minus'] = False\n",
    "\n",
    "\n",
    "#-------------------- 주피터 , 출력결과 넓이 늘리기 ---------------\n",
    "from IPython.core.display import display, HTML\n",
    "display(HTML(\"<style>.container{width:100% !important;}</style>\"))\n",
    "pd.set_option('display.max_rows', 100)\n",
    "pd.set_option('display.max_columns', 100)\n",
    "pd.set_option('max_colwidth', None)"
   ]
  },
  {
   "cell_type": "markdown",
   "id": "c1891cd6-fbba-4233-871a-3b68505e80fd",
   "metadata": {},
   "source": [
    "# Data Load"
   ]
  },
  {
   "cell_type": "markdown",
   "id": "6bc3037b-8f9c-42c9-8b3a-a5056e84797b",
   "metadata": {},
   "source": [
    "## 시총 Top 5 업종명, 업종코드\n",
    "* LG에너지솔루션, 삼성전자우 제외"
   ]
  },
  {
   "cell_type": "code",
   "execution_count": 2,
   "id": "25fef2ce-99aa-41b8-b642-ee0a34dc4d1e",
   "metadata": {
    "tags": []
   },
   "outputs": [
    {
     "name": "stdout",
     "output_type": "stream",
     "text": [
      "005930 삼성전자\n",
      "373220 LG에너지솔루션\n",
      "207940 삼성바이오로직스\n",
      "000660 SK하이닉스\n",
      "051910 LG화학\n",
      "005935 삼성전자우\n",
      "006400 삼성SDI\n",
      "5 ['005930', '207940', '000660', '051910', '006400']\n",
      "5 ['삼성전자', '삼성바이오로직스', 'SK하이닉스', 'LG화학', '삼성SDI']\n"
     ]
    }
   ],
   "source": [
    "start_data='20200101'\n",
    "end_data='20221229'\n",
    "\n",
    "df = stock.get_market_cap(end_data) \n",
    "top5_ticker = df.sort_values(by='시가총액', ascending=False).index[:7]\n",
    "top5_name = []\n",
    "for ticker in top5_ticker:\n",
    "    names = stock.get_market_ticker_name(ticker)\n",
    "    top5_name.append(names)\n",
    "    print(ticker, names)\n",
    "    time.sleep(1)  \n",
    "    \n",
    "top5_ticker = list(top5_ticker)\n",
    "\n",
    "top5_ticker.remove('373220')\n",
    "top5_ticker.remove('005935')\n",
    "\n",
    "top5_name.remove('LG에너지솔루션')\n",
    "top5_name.remove('삼성전자우')\n",
    "\n",
    "print(len(top5_ticker), top5_ticker)\n",
    "print(len(top5_name), top5_name)"
   ]
  },
  {
   "cell_type": "markdown",
   "id": "5ac0c403-c992-4ff0-8afe-115fbd739831",
   "metadata": {
    "tags": []
   },
   "source": [
    "## 종목 기본정보\n",
    "* 상장주식수, 유동비율\n",
    "* fnguide 크롤링"
   ]
  },
  {
   "cell_type": "code",
   "execution_count": 3,
   "id": "24fbf08b-9b09-4881-aa21-a170d5be3b84",
   "metadata": {
    "tags": []
   },
   "outputs": [],
   "source": [
    "from bs4 import BeautifulSoup\n",
    "import requests\n",
    "import re"
   ]
  },
  {
   "cell_type": "code",
   "execution_count": 4,
   "id": "209e5789-0922-4e43-81cf-7a3663a38cfa",
   "metadata": {
    "tags": []
   },
   "outputs": [
    {
     "name": "stdout",
     "output_type": "stream",
     "text": [
      "5969782550 75.83 4526867390\n",
      "71174000 24.76 17623981\n",
      "728002365 73.83 537454512\n",
      "70592343 66.63 47036786\n",
      "68764530 73.16 50305248\n"
     ]
    }
   ],
   "source": [
    "발생주식수_list = []\n",
    "유동비율_list = []\n",
    "유동주식수_list = []\n",
    "\n",
    "for ticker in top5_ticker:\n",
    "    res = requests.get(f\"https://comp.fnguide.com/SVO2/ASP/SVD_main.asp?pGB=1&gicode=A{ticker}&cID=&MenuYn=Y&ReportGB=&NewMenuID=11&stkGb=&strResearchYN=\")\n",
    "    soup = BeautifulSoup(res.text, 'html.parser')\n",
    "    \n",
    "    trdata = soup.select(\"#svdMainGrid1> table > tbody > tr\")\n",
    "    td = trdata[5].select(\"td\")\n",
    "    \n",
    "    발행주식수 = td[0].text\n",
    "    발행주식수 = 발행주식수.split(\"/\")[0].strip()\n",
    "    발행주식수 = int(''.join(re.findall('[\\d.]+', 발행주식수)))\n",
    "    \n",
    "    유동비율 = td[1].text\n",
    "    유동비율 = 유동비율.split('/')[1].strip()\n",
    "    유동비율= float(유동비율)\n",
    "    \n",
    "    유동주식수 = td[1].text\n",
    "    유동주식수 = 유동주식수.split('/')[0].strip()\n",
    "    유동주식수 = int(''.join(re.findall('[\\d.]+', 유동주식수)))\n",
    "    \n",
    "    발생주식수_list.append(발행주식수)\n",
    "    유동비율_list.append(유동비율)\n",
    "    유동주식수_list.append(유동주식수)\n",
    "    \n",
    "    print(발행주식수, 유동비율, 유동주식수)\n",
    "    \n",
    "    time.sleep(1)"
   ]
  },
  {
   "cell_type": "code",
   "execution_count": 5,
   "id": "494e5b0b-824c-4abb-9159-41d014c60f63",
   "metadata": {
    "tags": []
   },
   "outputs": [
    {
     "data": {
      "text/plain": [
       "[5969782550, 71174000, 728002365, 70592343, 68764530]"
      ]
     },
     "execution_count": 5,
     "metadata": {},
     "output_type": "execute_result"
    }
   ],
   "source": [
    "발생주식수_list"
   ]
  },
  {
   "cell_type": "code",
   "execution_count": 6,
   "id": "68691d86-058d-4e9c-95b6-a12c79394ad9",
   "metadata": {
    "tags": []
   },
   "outputs": [
    {
     "data": {
      "text/plain": [
       "[75.83, 24.76, 73.83, 66.63, 73.16]"
      ]
     },
     "execution_count": 6,
     "metadata": {},
     "output_type": "execute_result"
    }
   ],
   "source": [
    "유동비율_list"
   ]
  },
  {
   "cell_type": "code",
   "execution_count": 7,
   "id": "32e1a17c-8986-4b71-9f6e-9736032366e5",
   "metadata": {
    "tags": []
   },
   "outputs": [
    {
     "data": {
      "text/plain": [
       "[4526867390, 17623981, 537454512, 47036786, 50305248]"
      ]
     },
     "execution_count": 7,
     "metadata": {},
     "output_type": "execute_result"
    }
   ],
   "source": [
    "유동주식수_list  "
   ]
  },
  {
   "cell_type": "markdown",
   "id": "643f8063-229e-4fbf-93df-8e0bec4c0ea4",
   "metadata": {},
   "source": [
    "## 일자별 주가"
   ]
  },
  {
   "cell_type": "code",
   "execution_count": 8,
   "id": "bc84205e-b781-4e23-b6c9-9f384cc91990",
   "metadata": {
    "tags": []
   },
   "outputs": [
    {
     "ename": "JSONDecodeError",
     "evalue": "Expecting value: line 1 column 1 (char 0)",
     "output_type": "error",
     "traceback": [
      "\u001b[1;31m---------------------------------------------------------------------------\u001b[0m",
      "\u001b[1;31mJSONDecodeError\u001b[0m                           Traceback (most recent call last)",
      "File \u001b[1;32mC:\\AI\\pythonProject\\venv\\lib\\site-packages\\requests\\models.py:971\u001b[0m, in \u001b[0;36mResponse.json\u001b[1;34m(self, **kwargs)\u001b[0m\n\u001b[0;32m    970\u001b[0m \u001b[38;5;28;01mtry\u001b[39;00m:\n\u001b[1;32m--> 971\u001b[0m     \u001b[38;5;28;01mreturn\u001b[39;00m \u001b[43mcomplexjson\u001b[49m\u001b[38;5;241;43m.\u001b[39;49m\u001b[43mloads\u001b[49m\u001b[43m(\u001b[49m\u001b[38;5;28;43mself\u001b[39;49m\u001b[38;5;241;43m.\u001b[39;49m\u001b[43mtext\u001b[49m\u001b[43m,\u001b[49m\u001b[43m \u001b[49m\u001b[38;5;241;43m*\u001b[39;49m\u001b[38;5;241;43m*\u001b[39;49m\u001b[43mkwargs\u001b[49m\u001b[43m)\u001b[49m\n\u001b[0;32m    972\u001b[0m \u001b[38;5;28;01mexcept\u001b[39;00m JSONDecodeError \u001b[38;5;28;01mas\u001b[39;00m e:\n\u001b[0;32m    973\u001b[0m     \u001b[38;5;66;03m# Catch JSON-related errors and raise as requests.JSONDecodeError\u001b[39;00m\n\u001b[0;32m    974\u001b[0m     \u001b[38;5;66;03m# This aliases json.JSONDecodeError and simplejson.JSONDecodeError\u001b[39;00m\n",
      "File \u001b[1;32mC:\\AI\\pythonProject\\venv\\lib\\site-packages\\simplejson\\__init__.py:525\u001b[0m, in \u001b[0;36mloads\u001b[1;34m(s, encoding, cls, object_hook, parse_float, parse_int, parse_constant, object_pairs_hook, use_decimal, **kw)\u001b[0m\n\u001b[0;32m    521\u001b[0m \u001b[38;5;28;01mif\u001b[39;00m (\u001b[38;5;28mcls\u001b[39m \u001b[38;5;129;01mis\u001b[39;00m \u001b[38;5;28;01mNone\u001b[39;00m \u001b[38;5;129;01mand\u001b[39;00m encoding \u001b[38;5;129;01mis\u001b[39;00m \u001b[38;5;28;01mNone\u001b[39;00m \u001b[38;5;129;01mand\u001b[39;00m object_hook \u001b[38;5;129;01mis\u001b[39;00m \u001b[38;5;28;01mNone\u001b[39;00m \u001b[38;5;129;01mand\u001b[39;00m\n\u001b[0;32m    522\u001b[0m         parse_int \u001b[38;5;129;01mis\u001b[39;00m \u001b[38;5;28;01mNone\u001b[39;00m \u001b[38;5;129;01mand\u001b[39;00m parse_float \u001b[38;5;129;01mis\u001b[39;00m \u001b[38;5;28;01mNone\u001b[39;00m \u001b[38;5;129;01mand\u001b[39;00m\n\u001b[0;32m    523\u001b[0m         parse_constant \u001b[38;5;129;01mis\u001b[39;00m \u001b[38;5;28;01mNone\u001b[39;00m \u001b[38;5;129;01mand\u001b[39;00m object_pairs_hook \u001b[38;5;129;01mis\u001b[39;00m \u001b[38;5;28;01mNone\u001b[39;00m\n\u001b[0;32m    524\u001b[0m         \u001b[38;5;129;01mand\u001b[39;00m \u001b[38;5;129;01mnot\u001b[39;00m use_decimal \u001b[38;5;129;01mand\u001b[39;00m \u001b[38;5;129;01mnot\u001b[39;00m kw):\n\u001b[1;32m--> 525\u001b[0m     \u001b[38;5;28;01mreturn\u001b[39;00m \u001b[43m_default_decoder\u001b[49m\u001b[38;5;241;43m.\u001b[39;49m\u001b[43mdecode\u001b[49m\u001b[43m(\u001b[49m\u001b[43ms\u001b[49m\u001b[43m)\u001b[49m\n\u001b[0;32m    526\u001b[0m \u001b[38;5;28;01mif\u001b[39;00m \u001b[38;5;28mcls\u001b[39m \u001b[38;5;129;01mis\u001b[39;00m \u001b[38;5;28;01mNone\u001b[39;00m:\n",
      "File \u001b[1;32mC:\\AI\\pythonProject\\venv\\lib\\site-packages\\simplejson\\decoder.py:372\u001b[0m, in \u001b[0;36mJSONDecoder.decode\u001b[1;34m(self, s, _w, _PY3)\u001b[0m\n\u001b[0;32m    371\u001b[0m     s \u001b[38;5;241m=\u001b[39m \u001b[38;5;28mstr\u001b[39m(s, \u001b[38;5;28mself\u001b[39m\u001b[38;5;241m.\u001b[39mencoding)\n\u001b[1;32m--> 372\u001b[0m obj, end \u001b[38;5;241m=\u001b[39m \u001b[38;5;28;43mself\u001b[39;49m\u001b[38;5;241;43m.\u001b[39;49m\u001b[43mraw_decode\u001b[49m\u001b[43m(\u001b[49m\u001b[43ms\u001b[49m\u001b[43m)\u001b[49m\n\u001b[0;32m    373\u001b[0m end \u001b[38;5;241m=\u001b[39m _w(s, end)\u001b[38;5;241m.\u001b[39mend()\n",
      "File \u001b[1;32mC:\\AI\\pythonProject\\venv\\lib\\site-packages\\simplejson\\decoder.py:402\u001b[0m, in \u001b[0;36mJSONDecoder.raw_decode\u001b[1;34m(self, s, idx, _w, _PY3)\u001b[0m\n\u001b[0;32m    401\u001b[0m         idx \u001b[38;5;241m+\u001b[39m\u001b[38;5;241m=\u001b[39m \u001b[38;5;241m3\u001b[39m\n\u001b[1;32m--> 402\u001b[0m \u001b[38;5;28;01mreturn\u001b[39;00m \u001b[38;5;28;43mself\u001b[39;49m\u001b[38;5;241;43m.\u001b[39;49m\u001b[43mscan_once\u001b[49m\u001b[43m(\u001b[49m\u001b[43ms\u001b[49m\u001b[43m,\u001b[49m\u001b[43m \u001b[49m\u001b[43midx\u001b[49m\u001b[38;5;241;43m=\u001b[39;49m\u001b[43m_w\u001b[49m\u001b[43m(\u001b[49m\u001b[43ms\u001b[49m\u001b[43m,\u001b[49m\u001b[43m \u001b[49m\u001b[43midx\u001b[49m\u001b[43m)\u001b[49m\u001b[38;5;241;43m.\u001b[39;49m\u001b[43mend\u001b[49m\u001b[43m(\u001b[49m\u001b[43m)\u001b[49m\u001b[43m)\u001b[49m\n",
      "\u001b[1;31mJSONDecodeError\u001b[0m: Expecting value: line 1 column 1 (char 0)",
      "\nDuring handling of the above exception, another exception occurred:\n",
      "\u001b[1;31mJSONDecodeError\u001b[0m                           Traceback (most recent call last)",
      "Cell \u001b[1;32mIn[8], line 4\u001b[0m\n\u001b[0;32m      2\u001b[0m \u001b[38;5;28;01mfor\u001b[39;00m ticker \u001b[38;5;129;01min\u001b[39;00m top5_ticker:\n\u001b[0;32m      3\u001b[0m     names \u001b[38;5;241m=\u001b[39m stock\u001b[38;5;241m.\u001b[39mget_market_ticker_name(ticker)\n\u001b[1;32m----> 4\u001b[0m     closev \u001b[38;5;241m=\u001b[39m \u001b[43mstock\u001b[49m\u001b[38;5;241;43m.\u001b[39;49m\u001b[43mget_market_ohlcv\u001b[49m\u001b[43m(\u001b[49m\u001b[43mstart_data\u001b[49m\u001b[43m,\u001b[49m\u001b[43m \u001b[49m\u001b[43mend_data\u001b[49m\u001b[43m,\u001b[49m\u001b[43m \u001b[49m\u001b[43mticker\u001b[49m\u001b[43m)\u001b[49m[[\u001b[38;5;124m'\u001b[39m\u001b[38;5;124m종가\u001b[39m\u001b[38;5;124m'\u001b[39m]]\n\u001b[0;32m      5\u001b[0m     closev\u001b[38;5;241m.\u001b[39mcolumns \u001b[38;5;241m=\u001b[39m [names]\n\u001b[0;32m      6\u001b[0m     주가_list\u001b[38;5;241m.\u001b[39mappend(closev)\n",
      "File \u001b[1;32mC:\\AI\\pythonProject\\venv\\lib\\site-packages\\pykrx\\stock\\stock_api.py:190\u001b[0m, in \u001b[0;36mget_market_ohlcv\u001b[1;34m(*args, **kwargs)\u001b[0m\n\u001b[0;32m    187\u001b[0m dates \u001b[38;5;241m=\u001b[39m \u001b[38;5;28mlist\u001b[39m(\u001b[38;5;28mfilter\u001b[39m(regex_yymmdd\u001b[38;5;241m.\u001b[39mmatch, [\u001b[38;5;28mstr\u001b[39m(x) \u001b[38;5;28;01mfor\u001b[39;00m x \u001b[38;5;129;01min\u001b[39;00m args]))\n\u001b[0;32m    188\u001b[0m \u001b[38;5;28;01mif\u001b[39;00m \u001b[38;5;28mlen\u001b[39m(dates) \u001b[38;5;241m==\u001b[39m \u001b[38;5;241m2\u001b[39m \u001b[38;5;129;01mor\u001b[39;00m (\u001b[38;5;124m'\u001b[39m\u001b[38;5;124mfromdate\u001b[39m\u001b[38;5;124m'\u001b[39m \u001b[38;5;129;01min\u001b[39;00m kwargs \u001b[38;5;129;01mand\u001b[39;00m\n\u001b[0;32m    189\u001b[0m                        \u001b[38;5;124m'\u001b[39m\u001b[38;5;124mtodate\u001b[39m\u001b[38;5;124m'\u001b[39m \u001b[38;5;129;01min\u001b[39;00m kwargs):\n\u001b[1;32m--> 190\u001b[0m     \u001b[38;5;28;01mreturn\u001b[39;00m \u001b[43mget_market_ohlcv_by_date\u001b[49m\u001b[43m(\u001b[49m\u001b[38;5;241;43m*\u001b[39;49m\u001b[43margs\u001b[49m\u001b[43m,\u001b[49m\u001b[43m \u001b[49m\u001b[38;5;241;43m*\u001b[39;49m\u001b[38;5;241;43m*\u001b[39;49m\u001b[43mkwargs\u001b[49m\u001b[43m)\u001b[49m\n\u001b[0;32m    191\u001b[0m \u001b[38;5;28;01melse\u001b[39;00m:\n\u001b[0;32m    192\u001b[0m     \u001b[38;5;28;01mreturn\u001b[39;00m get_market_ohlcv_by_ticker(\u001b[38;5;241m*\u001b[39margs, \u001b[38;5;241m*\u001b[39m\u001b[38;5;241m*\u001b[39mkwargs)\n",
      "File \u001b[1;32mC:\\AI\\pythonProject\\venv\\lib\\site-packages\\pykrx\\stock\\stock_api.py:231\u001b[0m, in \u001b[0;36mget_market_ohlcv_by_date\u001b[1;34m(fromdate, todate, ticker, freq, adjusted, name_display)\u001b[0m\n\u001b[0;32m    228\u001b[0m fromdate \u001b[38;5;241m=\u001b[39m fromdate\u001b[38;5;241m.\u001b[39mreplace(\u001b[38;5;124m\"\u001b[39m\u001b[38;5;124m-\u001b[39m\u001b[38;5;124m\"\u001b[39m, \u001b[38;5;124m\"\u001b[39m\u001b[38;5;124m\"\u001b[39m)\n\u001b[0;32m    229\u001b[0m todate \u001b[38;5;241m=\u001b[39m todate\u001b[38;5;241m.\u001b[39mreplace(\u001b[38;5;124m\"\u001b[39m\u001b[38;5;124m-\u001b[39m\u001b[38;5;124m\"\u001b[39m, \u001b[38;5;124m\"\u001b[39m\u001b[38;5;124m\"\u001b[39m)\n\u001b[1;32m--> 231\u001b[0m df \u001b[38;5;241m=\u001b[39m \u001b[43mkrx\u001b[49m\u001b[38;5;241;43m.\u001b[39;49m\u001b[43mget_market_ohlcv_by_date\u001b[49m\u001b[43m(\u001b[49m\u001b[43mfromdate\u001b[49m\u001b[43m,\u001b[49m\u001b[43m \u001b[49m\u001b[43mtodate\u001b[49m\u001b[43m,\u001b[49m\u001b[43m \u001b[49m\u001b[43mticker\u001b[49m\u001b[43m,\u001b[49m\u001b[43m \u001b[49m\u001b[43madjusted\u001b[49m\u001b[43m)\u001b[49m\n\u001b[0;32m    233\u001b[0m \u001b[38;5;28;01mif\u001b[39;00m name_display:\n\u001b[0;32m    234\u001b[0m     df\u001b[38;5;241m.\u001b[39mcolumns\u001b[38;5;241m.\u001b[39mname \u001b[38;5;241m=\u001b[39m get_market_ticker_name(ticker)\n",
      "File \u001b[1;32mC:\\AI\\pythonProject\\venv\\lib\\site-packages\\pykrx\\website\\comm\\util.py:8\u001b[0m, in \u001b[0;36mdataframe_empty_handler.<locals>.wrapper\u001b[1;34m(*args, **kwargs)\u001b[0m\n\u001b[0;32m      6\u001b[0m \u001b[38;5;28;01mdef\u001b[39;00m \u001b[38;5;21mwrapper\u001b[39m(\u001b[38;5;241m*\u001b[39margs, \u001b[38;5;241m*\u001b[39m\u001b[38;5;241m*\u001b[39mkwargs):\n\u001b[0;32m      7\u001b[0m     \u001b[38;5;28;01mtry\u001b[39;00m:\n\u001b[1;32m----> 8\u001b[0m         \u001b[38;5;28;01mreturn\u001b[39;00m \u001b[43mfunc\u001b[49m\u001b[43m(\u001b[49m\u001b[38;5;241;43m*\u001b[39;49m\u001b[43margs\u001b[49m\u001b[43m,\u001b[49m\u001b[43m \u001b[49m\u001b[38;5;241;43m*\u001b[39;49m\u001b[38;5;241;43m*\u001b[39;49m\u001b[43mkwargs\u001b[49m\u001b[43m)\u001b[49m\n\u001b[0;32m      9\u001b[0m     \u001b[38;5;28;01mexcept\u001b[39;00m (\u001b[38;5;167;01mAttributeError\u001b[39;00m, \u001b[38;5;167;01mKeyError\u001b[39;00m, \u001b[38;5;167;01mTypeError\u001b[39;00m) \u001b[38;5;28;01mas\u001b[39;00m e:\n\u001b[0;32m     10\u001b[0m         logging\u001b[38;5;241m.\u001b[39minfo(args, kwargs)\n",
      "File \u001b[1;32mC:\\AI\\pythonProject\\venv\\lib\\site-packages\\pykrx\\website\\krx\\market\\wrap.py:52\u001b[0m, in \u001b[0;36mget_market_ohlcv_by_date\u001b[1;34m(fromdate, todate, ticker, adjusted)\u001b[0m\n\u001b[0;32m     50\u001b[0m isin \u001b[38;5;241m=\u001b[39m get_stock_ticker_isin(ticker)\n\u001b[0;32m     51\u001b[0m adjusted \u001b[38;5;241m=\u001b[39m \u001b[38;5;241m2\u001b[39m \u001b[38;5;28;01mif\u001b[39;00m adjusted \u001b[38;5;28;01melse\u001b[39;00m \u001b[38;5;241m1\u001b[39m\n\u001b[1;32m---> 52\u001b[0m df \u001b[38;5;241m=\u001b[39m \u001b[43m개별종목시세\u001b[49m\u001b[43m(\u001b[49m\u001b[43m)\u001b[49m\u001b[38;5;241;43m.\u001b[39;49m\u001b[43mfetch\u001b[49m\u001b[43m(\u001b[49m\u001b[43mfromdate\u001b[49m\u001b[43m,\u001b[49m\u001b[43m \u001b[49m\u001b[43mtodate\u001b[49m\u001b[43m,\u001b[49m\u001b[43m \u001b[49m\u001b[43misin\u001b[49m\u001b[43m,\u001b[49m\u001b[43m \u001b[49m\u001b[43madjusted\u001b[49m\u001b[43m)\u001b[49m\n\u001b[0;32m     54\u001b[0m df \u001b[38;5;241m=\u001b[39m df[[\u001b[38;5;124m'\u001b[39m\u001b[38;5;124mTRD_DD\u001b[39m\u001b[38;5;124m'\u001b[39m, \u001b[38;5;124m'\u001b[39m\u001b[38;5;124mTDD_OPNPRC\u001b[39m\u001b[38;5;124m'\u001b[39m, \u001b[38;5;124m'\u001b[39m\u001b[38;5;124mTDD_HGPRC\u001b[39m\u001b[38;5;124m'\u001b[39m, \u001b[38;5;124m'\u001b[39m\u001b[38;5;124mTDD_LWPRC\u001b[39m\u001b[38;5;124m'\u001b[39m, \u001b[38;5;124m'\u001b[39m\u001b[38;5;124mTDD_CLSPRC\u001b[39m\u001b[38;5;124m'\u001b[39m,\n\u001b[0;32m     55\u001b[0m          \u001b[38;5;124m'\u001b[39m\u001b[38;5;124mACC_TRDVOL\u001b[39m\u001b[38;5;124m'\u001b[39m, \u001b[38;5;124m'\u001b[39m\u001b[38;5;124mACC_TRDVAL\u001b[39m\u001b[38;5;124m'\u001b[39m, \u001b[38;5;124m'\u001b[39m\u001b[38;5;124mFLUC_RT\u001b[39m\u001b[38;5;124m'\u001b[39m]]\n\u001b[0;32m     56\u001b[0m df\u001b[38;5;241m.\u001b[39mcolumns \u001b[38;5;241m=\u001b[39m [\u001b[38;5;124m'\u001b[39m\u001b[38;5;124m날짜\u001b[39m\u001b[38;5;124m'\u001b[39m, \u001b[38;5;124m'\u001b[39m\u001b[38;5;124m시가\u001b[39m\u001b[38;5;124m'\u001b[39m, \u001b[38;5;124m'\u001b[39m\u001b[38;5;124m고가\u001b[39m\u001b[38;5;124m'\u001b[39m, \u001b[38;5;124m'\u001b[39m\u001b[38;5;124m저가\u001b[39m\u001b[38;5;124m'\u001b[39m, \u001b[38;5;124m'\u001b[39m\u001b[38;5;124m종가\u001b[39m\u001b[38;5;124m'\u001b[39m, \u001b[38;5;124m'\u001b[39m\u001b[38;5;124m거래량\u001b[39m\u001b[38;5;124m'\u001b[39m, \u001b[38;5;124m'\u001b[39m\u001b[38;5;124m거래대금\u001b[39m\u001b[38;5;124m'\u001b[39m,\n\u001b[0;32m     57\u001b[0m               \u001b[38;5;124m'\u001b[39m\u001b[38;5;124m등락률\u001b[39m\u001b[38;5;124m'\u001b[39m]\n",
      "File \u001b[1;32mC:\\AI\\pythonProject\\venv\\lib\\site-packages\\pykrx\\website\\krx\\market\\core.py:114\u001b[0m, in \u001b[0;36m개별종목시세.fetch\u001b[1;34m(self, strtDd, endDd, isuCd, adjStkPrc)\u001b[0m\n\u001b[0;32m     82\u001b[0m \u001b[38;5;28;01mdef\u001b[39;00m \u001b[38;5;21mfetch\u001b[39m(\u001b[38;5;28mself\u001b[39m, strtDd: \u001b[38;5;28mstr\u001b[39m, endDd: \u001b[38;5;28mstr\u001b[39m, isuCd: \u001b[38;5;28mstr\u001b[39m, adjStkPrc: \u001b[38;5;28mint\u001b[39m) \u001b[38;5;241m-\u001b[39m\u001b[38;5;241m>\u001b[39m DataFrame:\n\u001b[0;32m     83\u001b[0m \u001b[38;5;250m    \u001b[39m\u001b[38;5;124;03m\"\"\"[12003] 개별종목 시세 추이 (수정종가 아님)\u001b[39;00m\n\u001b[0;32m     84\u001b[0m \n\u001b[0;32m     85\u001b[0m \u001b[38;5;124;03m    Args:\u001b[39;00m\n\u001b[1;32m   (...)\u001b[0m\n\u001b[0;32m    112\u001b[0m \u001b[38;5;124;03m            543,250,212,050,000  5,969,782,550\u001b[39;00m\n\u001b[0;32m    113\u001b[0m \u001b[38;5;124;03m    \"\"\"\u001b[39;00m\n\u001b[1;32m--> 114\u001b[0m     result \u001b[38;5;241m=\u001b[39m \u001b[38;5;28;43mself\u001b[39;49m\u001b[38;5;241;43m.\u001b[39;49m\u001b[43mread\u001b[49m\u001b[43m(\u001b[49m\u001b[43misuCd\u001b[49m\u001b[38;5;241;43m=\u001b[39;49m\u001b[43misuCd\u001b[49m\u001b[43m,\u001b[49m\u001b[43m \u001b[49m\u001b[43mstrtDd\u001b[49m\u001b[38;5;241;43m=\u001b[39;49m\u001b[43mstrtDd\u001b[49m\u001b[43m,\u001b[49m\u001b[43m \u001b[49m\u001b[43mendDd\u001b[49m\u001b[38;5;241;43m=\u001b[39;49m\u001b[43mendDd\u001b[49m\u001b[43m,\u001b[49m\u001b[43m \u001b[49m\u001b[43madjStkPrc\u001b[49m\u001b[38;5;241;43m=\u001b[39;49m\u001b[43madjStkPrc\u001b[49m\u001b[43m)\u001b[49m\n\u001b[0;32m    115\u001b[0m     \u001b[38;5;28;01mreturn\u001b[39;00m DataFrame(result[\u001b[38;5;124m'\u001b[39m\u001b[38;5;124moutput\u001b[39m\u001b[38;5;124m'\u001b[39m])\n",
      "File \u001b[1;32mC:\\AI\\pythonProject\\venv\\lib\\site-packages\\pykrx\\website\\krx\\krxio.py:24\u001b[0m, in \u001b[0;36mKrxWebIo.read\u001b[1;34m(self, **params)\u001b[0m\n\u001b[0;32m     22\u001b[0m params\u001b[38;5;241m.\u001b[39mupdate(bld\u001b[38;5;241m=\u001b[39m\u001b[38;5;28mself\u001b[39m\u001b[38;5;241m.\u001b[39mbld)\n\u001b[0;32m     23\u001b[0m resp \u001b[38;5;241m=\u001b[39m \u001b[38;5;28msuper\u001b[39m()\u001b[38;5;241m.\u001b[39mread(\u001b[38;5;241m*\u001b[39m\u001b[38;5;241m*\u001b[39mparams)\n\u001b[1;32m---> 24\u001b[0m \u001b[38;5;28;01mreturn\u001b[39;00m \u001b[43mresp\u001b[49m\u001b[38;5;241;43m.\u001b[39;49m\u001b[43mjson\u001b[49m\u001b[43m(\u001b[49m\u001b[43m)\u001b[49m\n",
      "File \u001b[1;32mC:\\AI\\pythonProject\\venv\\lib\\site-packages\\requests\\models.py:975\u001b[0m, in \u001b[0;36mResponse.json\u001b[1;34m(self, **kwargs)\u001b[0m\n\u001b[0;32m    971\u001b[0m     \u001b[38;5;28;01mreturn\u001b[39;00m complexjson\u001b[38;5;241m.\u001b[39mloads(\u001b[38;5;28mself\u001b[39m\u001b[38;5;241m.\u001b[39mtext, \u001b[38;5;241m*\u001b[39m\u001b[38;5;241m*\u001b[39mkwargs)\n\u001b[0;32m    972\u001b[0m \u001b[38;5;28;01mexcept\u001b[39;00m JSONDecodeError \u001b[38;5;28;01mas\u001b[39;00m e:\n\u001b[0;32m    973\u001b[0m     \u001b[38;5;66;03m# Catch JSON-related errors and raise as requests.JSONDecodeError\u001b[39;00m\n\u001b[0;32m    974\u001b[0m     \u001b[38;5;66;03m# This aliases json.JSONDecodeError and simplejson.JSONDecodeError\u001b[39;00m\n\u001b[1;32m--> 975\u001b[0m     \u001b[38;5;28;01mraise\u001b[39;00m RequestsJSONDecodeError(e\u001b[38;5;241m.\u001b[39mmsg, e\u001b[38;5;241m.\u001b[39mdoc, e\u001b[38;5;241m.\u001b[39mpos)\n",
      "\u001b[1;31mJSONDecodeError\u001b[0m: Expecting value: line 1 column 1 (char 0)"
     ]
    }
   ],
   "source": [
    "주가_list = []\n",
    "for ticker in top5_ticker:\n",
    "    names = stock.get_market_ticker_name(ticker)\n",
    "    closev = stock.get_market_ohlcv(start_data, end_data, ticker)[['종가']]\n",
    "    closev.columns = [names]\n",
    "    주가_list.append(closev)\n",
    "    time.sleep(1)  \n",
    "    \n",
    "주가_df = pd.concat(주가_list, axis=1)  \n",
    "주가_df.head()"
   ]
  },
  {
   "cell_type": "code",
   "execution_count": null,
   "id": "3359af72-f4b9-4e3d-9fa7-75454ac52064",
   "metadata": {
    "tags": []
   },
   "outputs": [],
   "source": [
    "주가_df.to_csv('./datasets/일자별주가.csv')"
   ]
  },
  {
   "cell_type": "code",
   "execution_count": null,
   "id": "0af2027e-0a01-44f1-8b5f-9ddd77a23f63",
   "metadata": {},
   "outputs": [],
   "source": [
    "# 좌수 = pd.read_csv('./datasets/실습07_설정환매_랜덤.csv', encoding='utf-8') \n",
    "# 좌수.columns = ['날짜','설정', '환매']\n",
    "# 좌수 = 좌수.set_index('날짜')\n",
    "# 좌수.head()"
   ]
  },
  {
   "cell_type": "code",
   "execution_count": null,
   "id": "3f3666a9-3be3-4189-a709-91c8635c7bd2",
   "metadata": {},
   "outputs": [],
   "source": [
    "주가_df = pd.read_csv('./datasets/실습07_설정환매_랜덤.csv', encoding='utf-8')\n",
    "좌수.columns = ['날짜','설정', '환매']\n",
    "주가_df = 주가_df.set_index(\"날짜\")\n",
    "주가_df.head()"
   ]
  },
  {
   "cell_type": "markdown",
   "id": "e09a5162-1a56-4dc6-8b00-8deabacdad7c",
   "metadata": {},
   "source": [
    "# 일자별 시가 총액"
   ]
  },
  {
   "cell_type": "code",
   "execution_count": null,
   "id": "f4b85006-2d5e-4611-be16-302c8f3a8efa",
   "metadata": {
    "tags": []
   },
   "outputs": [],
   "source": [
    "# 유동주식수 = np.array(발생주식수_list) * np.array(유동비율_list)*0.01\n",
    "# 시가총액_df = 주가_df*유동주식수\n",
    "시가총액_df = 주가_df*np.array(유동주식수_list)\n",
    "시가총액_df.head()"
   ]
  },
  {
   "cell_type": "code",
   "execution_count": null,
   "id": "614f5499-152b-4f53-8e9e-c0a732bf6b91",
   "metadata": {
    "tags": []
   },
   "outputs": [],
   "source": [
    "# 시가총액_df['합계'] = 시가총액_df.iloc[:,0]+시가총액_df.iloc[:,1]+시가총액_df.iloc[:,2]+시가총액_df.iloc[:,3]+시가총액_df.iloc[:,4]\n",
    "시가총액_df['합계'] = 시가총액_df.sum(axis=1)\n",
    "시가총액_df.head()"
   ]
  },
  {
   "cell_type": "code",
   "execution_count": null,
   "id": "e268c35c-328a-4096-8b13-d8b3fdc7be5f",
   "metadata": {
    "tags": []
   },
   "outputs": [],
   "source": [
    "시가총액_df['지수'] = 시가총액_df['합계']/시가총액_df.iloc[0,5]\n",
    "시가총액_df.head()"
   ]
  },
  {
   "cell_type": "markdown",
   "id": "e6e69bd6-6a12-4dbe-a2e1-af23e32f089f",
   "metadata": {},
   "source": [
    "# 펀드"
   ]
  },
  {
   "cell_type": "markdown",
   "id": "c3caff65-603e-4fa4-b621-dfc41feb994b",
   "metadata": {},
   "source": [
    "## 편입비중"
   ]
  },
  {
   "cell_type": "code",
   "execution_count": null,
   "id": "a16d254c-4f71-4a3c-8a04-f37ace63cc93",
   "metadata": {
    "tags": []
   },
   "outputs": [],
   "source": [
    "편입비중_df = 시가총액_df[top5_name]\n",
    "편입비중_df = 편입비중_df.div(시가총액_df['합계'], axis=0)\n",
    "편입비중_df.head()"
   ]
  },
  {
   "cell_type": "markdown",
   "id": "ac40ac71-eacb-489c-a03e-568e1090f2ed",
   "metadata": {},
   "source": [
    "## 설정좌수, 환매좌수"
   ]
  },
  {
   "cell_type": "code",
   "execution_count": null,
   "id": "f0d668ec-dddf-4127-9421-392bf9f1df89",
   "metadata": {
    "tags": []
   },
   "outputs": [],
   "source": [
    "좌수 = pd.read_csv('./datasets/실습07_설정환매_랜덤.csv') \n",
    "# , parse_dates=['날짜']\n",
    "좌수 = 좌수.set_index('날짜')\n",
    "좌수.head()"
   ]
  },
  {
   "cell_type": "code",
   "execution_count": null,
   "id": "36a4372e-56b6-4f5c-84a9-df7884e07a73",
   "metadata": {
    "tags": []
   },
   "outputs": [],
   "source": [
    "좌수['총좌수'] = (좌수['설정']-좌수['환매']).cumsum()\n",
    "좌수.head()"
   ]
  },
  {
   "cell_type": "markdown",
   "id": "cf5bbb88-81dc-46a5-986b-693438d08567",
   "metadata": {},
   "source": [
    "## iNAV"
   ]
  },
  {
   "cell_type": "code",
   "execution_count": null,
   "id": "6ba9cd48-7fe8-4da2-95b4-1e3a3162b6e9",
   "metadata": {
    "tags": []
   },
   "outputs": [],
   "source": [
    "기준가 = 10000\n",
    "iNAV = (시가총액_df['지수']/시가총액_df['지수'][0])*기준가\n",
    "# iNAV = iNAV.astype(int)\n",
    "iNAV"
   ]
  },
  {
   "cell_type": "markdown",
   "id": "6010300e-b18a-460e-bc68-0f27652cc06f",
   "metadata": {},
   "source": [
    "## AUM"
   ]
  },
  {
   "cell_type": "code",
   "execution_count": null,
   "id": "b01b0827-f89d-4f0e-88c7-c64fb42bf425",
   "metadata": {
    "tags": []
   },
   "outputs": [],
   "source": [
    "AUM = iNAV*좌수['총좌수']\n",
    "AUM"
   ]
  },
  {
   "cell_type": "markdown",
   "id": "c33726a3-f407-42af-bb10-204039f0e1f9",
   "metadata": {},
   "source": [
    "## 일자별 매매내역"
   ]
  },
  {
   "cell_type": "code",
   "execution_count": null,
   "id": "2a8d9fca-eafc-4131-be61-558e9c8dbced",
   "metadata": {
    "tags": []
   },
   "outputs": [],
   "source": [
    "주식잔고_df = 편입비중_df[top5_name]\n",
    "\n",
    "주식잔고_df = 주식잔고_df.mul(AUM, axis=0)\n",
    "주식잔고_df = 주식잔고_df.div(주가_df)\n",
    "\n",
    "주식잔고_df = 주식잔고_df.astype(int)\n",
    "\n",
    "주식잔고_df.head()"
   ]
  },
  {
   "cell_type": "code",
   "execution_count": null,
   "id": "5dbea28a-99bc-4496-a4f5-351d8bc4196e",
   "metadata": {
    "tags": []
   },
   "outputs": [],
   "source": [
    "매매내역_df = 주식잔고_df.diff()\n",
    "매매내역_df.iloc[0,:] = 주식잔고_df.iloc[0,:]\n",
    "매매내역_df.head()"
   ]
  },
  {
   "cell_type": "markdown",
   "id": "1016a977-c665-4cfa-a56b-eee472b313e8",
   "metadata": {
    "tags": []
   },
   "source": [
    "## Total Fund Result"
   ]
  },
  {
   "cell_type": "code",
   "execution_count": null,
   "id": "b766daef-7b89-47b9-9183-94842580c09c",
   "metadata": {
    "tags": []
   },
   "outputs": [],
   "source": [
    "fdf = pd.concat([편입비중_df,시가총액_df['지수'],  좌수, iNAV, AUM, 매매내역_df, 주식잔고_df], axis=1)\n",
    "fdf.head()"
   ]
  },
  {
   "cell_type": "code",
   "execution_count": null,
   "id": "5373b2c1-c3dc-4c38-a604-1b094c454915",
   "metadata": {
    "tags": []
   },
   "outputs": [],
   "source": [
    "fdf.columns = ['편입비중_삼성전자', '편입비중_삼성바이오로직스', '편입비중_SK하이닉스', '편입비중_LG화학', '편입비중_삼성SDI',\n",
    "              '지수', '설정좌수', '환매좌수', '총좌수', 'iNAV', 'AUM',\n",
    "              '매매내역_삼성전자', '매매내역_삼성바이오로직스', '매매내역_SK하이닉스', '매매내역_LG화학', '매매내역_삼성SDI',\n",
    "              '주식잔고_삼성전자', '주식잔고_삼성바이오로직스', '주식잔고_SK하이닉스', '주식잔고_LG화학', '주식잔고_삼성SDI']\n",
    "fdf.head()"
   ]
  },
  {
   "cell_type": "code",
   "execution_count": null,
   "id": "60235b8e-d052-4ea0-ba11-242a14219f4e",
   "metadata": {
    "tags": []
   },
   "outputs": [],
   "source": [
    "fdf.tail()"
   ]
  },
  {
   "cell_type": "code",
   "execution_count": null,
   "id": "6d3dbcb4-0be0-435b-9632-803456438420",
   "metadata": {},
   "outputs": [],
   "source": []
  },
  {
   "cell_type": "code",
   "execution_count": null,
   "id": "e4826d9b-dada-4b89-96e4-e7a819c0bc81",
   "metadata": {},
   "outputs": [],
   "source": []
  },
  {
   "cell_type": "code",
   "execution_count": null,
   "id": "20b500ab-c0dc-476f-8527-12b2cf40ed98",
   "metadata": {},
   "outputs": [],
   "source": []
  },
  {
   "cell_type": "code",
   "execution_count": null,
   "id": "000e9a60-87d3-46a2-8b50-c1d29a62d494",
   "metadata": {},
   "outputs": [],
   "source": []
  }
 ],
 "metadata": {
  "kernelspec": {
   "display_name": "Python 3 (ipykernel)",
   "language": "python",
   "name": "python3"
  },
  "language_info": {
   "codemirror_mode": {
    "name": "ipython",
    "version": 3
   },
   "file_extension": ".py",
   "mimetype": "text/x-python",
   "name": "python",
   "nbconvert_exporter": "python",
   "pygments_lexer": "ipython3",
   "version": "3.8.8"
  }
 },
 "nbformat": 4,
 "nbformat_minor": 5
}
